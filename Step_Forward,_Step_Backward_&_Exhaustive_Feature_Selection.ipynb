{
  "nbformat": 4,
  "nbformat_minor": 0,
  "metadata": {
    "colab": {
      "name": "Step Forward, Step Backward & Exhaustive Feature Selection.ipynb",
      "provenance": [],
      "collapsed_sections": [
        "129cZadql35i",
        "cB2r7pvRmDJM"
      ],
      "authorship_tag": "ABX9TyPJdR6KweM32oUOjNRk4DPV",
      "include_colab_link": true
    },
    "kernelspec": {
      "name": "python3",
      "display_name": "Python 3"
    }
  },
  "cells": [
    {
      "cell_type": "markdown",
      "metadata": {
        "id": "view-in-github",
        "colab_type": "text"
      },
      "source": [
        "<a href=\"https://colab.research.google.com/github/BhavikDudhrejiya/Feature-Selection-Methods/blob/main/Step_Forward%2C_Step_Backward_%26_Exhaustive_Feature_Selection.ipynb\" target=\"_parent\"><img src=\"https://colab.research.google.com/assets/colab-badge.svg\" alt=\"Open In Colab\"/></a>"
      ]
    },
    {
      "cell_type": "code",
      "metadata": {
        "id": "71-VQlcOXRKp"
      },
      "source": [
        "#Importing libraries\r\n",
        "import pandas as pd\r\n",
        "import numpy as np\r\n",
        "import seaborn as sns\r\n",
        "import matplotlib.pyplot as plt\r\n",
        "from sklearn.model_selection import train_test_split\r\n",
        "from sklearn.ensemble import RandomForestClassifier, RandomForestRegressor\r\n",
        "from sklearn.metrics import roc_auc_score, accuracy_score\r\n",
        "from mlxtend.feature_selection import SequentialFeatureSelector as SFS\r\n",
        "from sklearn.datasets import load_wine\r\n",
        "from sklearn.preprocessing import StandardScaler\r\n",
        "from mlxtend.feature_selection import ExhaustiveFeatureSelector as EFS\r\n",
        "from mlxtend.plotting import plot_sequential_feature_selection as plt_sfs"
      ],
      "execution_count": 63,
      "outputs": []
    },
    {
      "cell_type": "code",
      "metadata": {
        "id": "Y1cIjGmQYMM5"
      },
      "source": [
        "#Loading the data\r\n",
        "data = load_wine()"
      ],
      "execution_count": 5,
      "outputs": []
    },
    {
      "cell_type": "code",
      "metadata": {
        "colab": {
          "base_uri": "https://localhost:8080/"
        },
        "id": "5WvlhaKrYloT",
        "outputId": "bd227119-0587-48eb-c7a8-aaa2e5c16d2e"
      },
      "source": [
        "#Checking attributes of the data\r\n",
        "data.keys()"
      ],
      "execution_count": 6,
      "outputs": [
        {
          "output_type": "execute_result",
          "data": {
            "text/plain": [
              "dict_keys(['data', 'target', 'target_names', 'DESCR', 'feature_names'])"
            ]
          },
          "metadata": {
            "tags": []
          },
          "execution_count": 6
        }
      ]
    },
    {
      "cell_type": "code",
      "metadata": {
        "colab": {
          "base_uri": "https://localhost:8080/"
        },
        "id": "kQmLrSPkYrfe",
        "outputId": "0bea88b2-8bfd-440a-b712-26e906a59665"
      },
      "source": [
        "#Splitting data into X & y\r\n",
        "X = pd.DataFrame(data.data, columns = data.feature_names)\r\n",
        "y = data.target\r\n",
        "\r\n",
        "#Checking the shape of the data\r\n",
        "X.shape, y.shape"
      ],
      "execution_count": 9,
      "outputs": [
        {
          "output_type": "execute_result",
          "data": {
            "text/plain": [
              "((178, 13), (178,))"
            ]
          },
          "metadata": {
            "tags": []
          },
          "execution_count": 9
        }
      ]
    },
    {
      "cell_type": "code",
      "metadata": {
        "colab": {
          "base_uri": "https://localhost:8080/",
          "height": 224
        },
        "id": "ryAdSEBrY-JY",
        "outputId": "f0a0f6dd-cc34-4e1c-b1c8-6b79782171a0"
      },
      "source": [
        "#Checking the data\r\n",
        "X.head()"
      ],
      "execution_count": 10,
      "outputs": [
        {
          "output_type": "execute_result",
          "data": {
            "text/html": [
              "<div>\n",
              "<style scoped>\n",
              "    .dataframe tbody tr th:only-of-type {\n",
              "        vertical-align: middle;\n",
              "    }\n",
              "\n",
              "    .dataframe tbody tr th {\n",
              "        vertical-align: top;\n",
              "    }\n",
              "\n",
              "    .dataframe thead th {\n",
              "        text-align: right;\n",
              "    }\n",
              "</style>\n",
              "<table border=\"1\" class=\"dataframe\">\n",
              "  <thead>\n",
              "    <tr style=\"text-align: right;\">\n",
              "      <th></th>\n",
              "      <th>alcohol</th>\n",
              "      <th>malic_acid</th>\n",
              "      <th>ash</th>\n",
              "      <th>alcalinity_of_ash</th>\n",
              "      <th>magnesium</th>\n",
              "      <th>total_phenols</th>\n",
              "      <th>flavanoids</th>\n",
              "      <th>nonflavanoid_phenols</th>\n",
              "      <th>proanthocyanins</th>\n",
              "      <th>color_intensity</th>\n",
              "      <th>hue</th>\n",
              "      <th>od280/od315_of_diluted_wines</th>\n",
              "      <th>proline</th>\n",
              "    </tr>\n",
              "  </thead>\n",
              "  <tbody>\n",
              "    <tr>\n",
              "      <th>0</th>\n",
              "      <td>14.23</td>\n",
              "      <td>1.71</td>\n",
              "      <td>2.43</td>\n",
              "      <td>15.6</td>\n",
              "      <td>127.0</td>\n",
              "      <td>2.80</td>\n",
              "      <td>3.06</td>\n",
              "      <td>0.28</td>\n",
              "      <td>2.29</td>\n",
              "      <td>5.64</td>\n",
              "      <td>1.04</td>\n",
              "      <td>3.92</td>\n",
              "      <td>1065.0</td>\n",
              "    </tr>\n",
              "    <tr>\n",
              "      <th>1</th>\n",
              "      <td>13.20</td>\n",
              "      <td>1.78</td>\n",
              "      <td>2.14</td>\n",
              "      <td>11.2</td>\n",
              "      <td>100.0</td>\n",
              "      <td>2.65</td>\n",
              "      <td>2.76</td>\n",
              "      <td>0.26</td>\n",
              "      <td>1.28</td>\n",
              "      <td>4.38</td>\n",
              "      <td>1.05</td>\n",
              "      <td>3.40</td>\n",
              "      <td>1050.0</td>\n",
              "    </tr>\n",
              "    <tr>\n",
              "      <th>2</th>\n",
              "      <td>13.16</td>\n",
              "      <td>2.36</td>\n",
              "      <td>2.67</td>\n",
              "      <td>18.6</td>\n",
              "      <td>101.0</td>\n",
              "      <td>2.80</td>\n",
              "      <td>3.24</td>\n",
              "      <td>0.30</td>\n",
              "      <td>2.81</td>\n",
              "      <td>5.68</td>\n",
              "      <td>1.03</td>\n",
              "      <td>3.17</td>\n",
              "      <td>1185.0</td>\n",
              "    </tr>\n",
              "    <tr>\n",
              "      <th>3</th>\n",
              "      <td>14.37</td>\n",
              "      <td>1.95</td>\n",
              "      <td>2.50</td>\n",
              "      <td>16.8</td>\n",
              "      <td>113.0</td>\n",
              "      <td>3.85</td>\n",
              "      <td>3.49</td>\n",
              "      <td>0.24</td>\n",
              "      <td>2.18</td>\n",
              "      <td>7.80</td>\n",
              "      <td>0.86</td>\n",
              "      <td>3.45</td>\n",
              "      <td>1480.0</td>\n",
              "    </tr>\n",
              "    <tr>\n",
              "      <th>4</th>\n",
              "      <td>13.24</td>\n",
              "      <td>2.59</td>\n",
              "      <td>2.87</td>\n",
              "      <td>21.0</td>\n",
              "      <td>118.0</td>\n",
              "      <td>2.80</td>\n",
              "      <td>2.69</td>\n",
              "      <td>0.39</td>\n",
              "      <td>1.82</td>\n",
              "      <td>4.32</td>\n",
              "      <td>1.04</td>\n",
              "      <td>2.93</td>\n",
              "      <td>735.0</td>\n",
              "    </tr>\n",
              "  </tbody>\n",
              "</table>\n",
              "</div>"
            ],
            "text/plain": [
              "   alcohol  malic_acid   ash  ...   hue  od280/od315_of_diluted_wines  proline\n",
              "0    14.23        1.71  2.43  ...  1.04                          3.92   1065.0\n",
              "1    13.20        1.78  2.14  ...  1.05                          3.40   1050.0\n",
              "2    13.16        2.36  2.67  ...  1.03                          3.17   1185.0\n",
              "3    14.37        1.95  2.50  ...  0.86                          3.45   1480.0\n",
              "4    13.24        2.59  2.87  ...  1.04                          2.93    735.0\n",
              "\n",
              "[5 rows x 13 columns]"
            ]
          },
          "metadata": {
            "tags": []
          },
          "execution_count": 10
        }
      ]
    },
    {
      "cell_type": "code",
      "metadata": {
        "colab": {
          "base_uri": "https://localhost:8080/"
        },
        "id": "rbgEFGRMZNQh",
        "outputId": "70f0da5a-394f-48c8-bf26-a104362b68f0"
      },
      "source": [
        "#Checking missing values\r\n",
        "X.isnull().sum()"
      ],
      "execution_count": 11,
      "outputs": [
        {
          "output_type": "execute_result",
          "data": {
            "text/plain": [
              "alcohol                         0\n",
              "malic_acid                      0\n",
              "ash                             0\n",
              "alcalinity_of_ash               0\n",
              "magnesium                       0\n",
              "total_phenols                   0\n",
              "flavanoids                      0\n",
              "nonflavanoid_phenols            0\n",
              "proanthocyanins                 0\n",
              "color_intensity                 0\n",
              "hue                             0\n",
              "od280/od315_of_diluted_wines    0\n",
              "proline                         0\n",
              "dtype: int64"
            ]
          },
          "metadata": {
            "tags": []
          },
          "execution_count": 11
        }
      ]
    },
    {
      "cell_type": "code",
      "metadata": {
        "colab": {
          "base_uri": "https://localhost:8080/"
        },
        "id": "ksK96hGbZUUF",
        "outputId": "e180284f-f507-4114-aa81-2802df14c091"
      },
      "source": [
        "#Splitting data into train and test split\r\n",
        "X_train, X_test, y_train, y_test = train_test_split(X, y, test_size = 0.2, random_state = 0)\r\n",
        "\r\n",
        "#Checking the shape of the data\r\n",
        "X_train.shape, X_test.shape, y_train.shape, y_test.shape"
      ],
      "execution_count": 12,
      "outputs": [
        {
          "output_type": "execute_result",
          "data": {
            "text/plain": [
              "((142, 13), (36, 13), (142,), (36,))"
            ]
          },
          "metadata": {
            "tags": []
          },
          "execution_count": 12
        }
      ]
    },
    {
      "cell_type": "markdown",
      "metadata": {
        "id": "JQLeNWXXZqiw"
      },
      "source": [
        "#Step Forward Selection"
      ]
    },
    {
      "cell_type": "code",
      "metadata": {
        "colab": {
          "base_uri": "https://localhost:8080/"
        },
        "id": "w0DPDXaLZnLf",
        "outputId": "f4586be5-2ab2-4068-c96c-f0ced5fa9c13"
      },
      "source": [
        "#Creating Step Forward Selection on the data\r\n",
        "sfs = SFS(RandomForestClassifier(n_estimators=100, random_state=42, n_jobs = -1),\r\n",
        "          k_features = 7,\r\n",
        "          forward = True,\r\n",
        "          floating = False,\r\n",
        "          verbose = 2,\r\n",
        "          scoring = 'accuracy',\r\n",
        "          cv = 4,\r\n",
        "          n_jobs = -1)\r\n",
        "sfs.fit(X_train, y_train)"
      ],
      "execution_count": 15,
      "outputs": [
        {
          "output_type": "stream",
          "text": [
            "[Parallel(n_jobs=-1)]: Using backend LokyBackend with 2 concurrent workers.\n",
            "[Parallel(n_jobs=-1)]: Done  13 out of  13 | elapsed:   10.0s finished\n",
            "\n",
            "[2021-03-10 14:15:32] Features: 1/7 -- score: 0.7746031746031745[Parallel(n_jobs=-1)]: Using backend LokyBackend with 2 concurrent workers.\n",
            "[Parallel(n_jobs=-1)]: Done  12 out of  12 | elapsed:    8.8s finished\n",
            "\n",
            "[2021-03-10 14:15:41] Features: 2/7 -- score: 0.9575396825396825[Parallel(n_jobs=-1)]: Using backend LokyBackend with 2 concurrent workers.\n",
            "[Parallel(n_jobs=-1)]: Done  11 out of  11 | elapsed:    8.5s finished\n",
            "\n",
            "[2021-03-10 14:15:49] Features: 3/7 -- score: 0.9928571428571429[Parallel(n_jobs=-1)]: Using backend LokyBackend with 2 concurrent workers.\n",
            "[Parallel(n_jobs=-1)]: Done  10 out of  10 | elapsed:    7.4s finished\n",
            "\n",
            "[2021-03-10 14:15:57] Features: 4/7 -- score: 0.9789682539682539[Parallel(n_jobs=-1)]: Using backend LokyBackend with 2 concurrent workers.\n",
            "[Parallel(n_jobs=-1)]: Done   9 out of   9 | elapsed:    7.2s finished\n",
            "\n",
            "[2021-03-10 14:16:04] Features: 5/7 -- score: 0.9928571428571429[Parallel(n_jobs=-1)]: Using backend LokyBackend with 2 concurrent workers.\n",
            "[Parallel(n_jobs=-1)]: Done   8 out of   8 | elapsed:    5.9s finished\n",
            "\n",
            "[2021-03-10 14:16:10] Features: 6/7 -- score: 0.9930555555555556[Parallel(n_jobs=-1)]: Using backend LokyBackend with 2 concurrent workers.\n",
            "[Parallel(n_jobs=-1)]: Done   7 out of   7 | elapsed:    5.7s finished\n",
            "\n",
            "[2021-03-10 14:16:15] Features: 7/7 -- score: 0.9930555555555556"
          ],
          "name": "stderr"
        },
        {
          "output_type": "execute_result",
          "data": {
            "text/plain": [
              "SequentialFeatureSelector(clone_estimator=True, cv=4,\n",
              "                          estimator=RandomForestClassifier(bootstrap=True,\n",
              "                                                           ccp_alpha=0.0,\n",
              "                                                           class_weight=None,\n",
              "                                                           criterion='gini',\n",
              "                                                           max_depth=None,\n",
              "                                                           max_features='auto',\n",
              "                                                           max_leaf_nodes=None,\n",
              "                                                           max_samples=None,\n",
              "                                                           min_impurity_decrease=0.0,\n",
              "                                                           min_impurity_split=None,\n",
              "                                                           min_samples_leaf=1,\n",
              "                                                           min_samples_split=2,\n",
              "                                                           min_weight_fraction_leaf=0.0,\n",
              "                                                           n_estimators=100,\n",
              "                                                           n_jobs=-1,\n",
              "                                                           oob_score=False,\n",
              "                                                           random_state=42,\n",
              "                                                           verbose=0,\n",
              "                                                           warm_start=False),\n",
              "                          floating=False, forward=True, k_features=7, n_jobs=-1,\n",
              "                          pre_dispatch='2*n_jobs', scoring='accuracy',\n",
              "                          verbose=2)"
            ]
          },
          "metadata": {
            "tags": []
          },
          "execution_count": 15
        }
      ]
    },
    {
      "cell_type": "code",
      "metadata": {
        "colab": {
          "base_uri": "https://localhost:8080/"
        },
        "id": "_3k4oRdPaPfP",
        "outputId": "ddd0f355-88d4-43ee-e043-e09f5216466a"
      },
      "source": [
        "#Extracting the features\r\n",
        "sfs.k_feature_names_"
      ],
      "execution_count": 16,
      "outputs": [
        {
          "output_type": "execute_result",
          "data": {
            "text/plain": [
              "('alcohol',\n",
              " 'malic_acid',\n",
              " 'magnesium',\n",
              " 'flavanoids',\n",
              " 'proanthocyanins',\n",
              " 'color_intensity',\n",
              " 'od280/od315_of_diluted_wines')"
            ]
          },
          "metadata": {
            "tags": []
          },
          "execution_count": 16
        }
      ]
    },
    {
      "cell_type": "code",
      "metadata": {
        "colab": {
          "base_uri": "https://localhost:8080/"
        },
        "id": "H7UQni19f4TB",
        "outputId": "90416b52-6eb9-406f-f59f-8d64b497a102"
      },
      "source": [
        "#Extracting the index number of features\r\n",
        "sfs.k_feature_idx_"
      ],
      "execution_count": 17,
      "outputs": [
        {
          "output_type": "execute_result",
          "data": {
            "text/plain": [
              "(0, 1, 4, 6, 8, 9, 11)"
            ]
          },
          "metadata": {
            "tags": []
          },
          "execution_count": 17
        }
      ]
    },
    {
      "cell_type": "code",
      "metadata": {
        "colab": {
          "base_uri": "https://localhost:8080/"
        },
        "id": "cZxd4jwtgBNO",
        "outputId": "32218038-8cc7-4d34-dfdf-e0ac111a884a"
      },
      "source": [
        "#Extracting the score\r\n",
        "sfs.k_score_"
      ],
      "execution_count": 18,
      "outputs": [
        {
          "output_type": "execute_result",
          "data": {
            "text/plain": [
              "0.9930555555555556"
            ]
          },
          "metadata": {
            "tags": []
          },
          "execution_count": 18
        }
      ]
    },
    {
      "cell_type": "code",
      "metadata": {
        "colab": {
          "base_uri": "https://localhost:8080/",
          "height": 266
        },
        "id": "fn7jhsh_gGxM",
        "outputId": "b1e47edc-3920-4a57-fdb7-62690cc6f433"
      },
      "source": [
        "#Checking the summary of the SFS\r\n",
        "pd.DataFrame(sfs.get_metric_dict()).T"
      ],
      "execution_count": 22,
      "outputs": [
        {
          "output_type": "execute_result",
          "data": {
            "text/html": [
              "<div>\n",
              "<style scoped>\n",
              "    .dataframe tbody tr th:only-of-type {\n",
              "        vertical-align: middle;\n",
              "    }\n",
              "\n",
              "    .dataframe tbody tr th {\n",
              "        vertical-align: top;\n",
              "    }\n",
              "\n",
              "    .dataframe thead th {\n",
              "        text-align: right;\n",
              "    }\n",
              "</style>\n",
              "<table border=\"1\" class=\"dataframe\">\n",
              "  <thead>\n",
              "    <tr style=\"text-align: right;\">\n",
              "      <th></th>\n",
              "      <th>feature_idx</th>\n",
              "      <th>cv_scores</th>\n",
              "      <th>avg_score</th>\n",
              "      <th>feature_names</th>\n",
              "      <th>ci_bound</th>\n",
              "      <th>std_dev</th>\n",
              "      <th>std_err</th>\n",
              "    </tr>\n",
              "  </thead>\n",
              "  <tbody>\n",
              "    <tr>\n",
              "      <th>1</th>\n",
              "      <td>(6,)</td>\n",
              "      <td>[0.7222222222222222, 0.8333333333333334, 0.742...</td>\n",
              "      <td>0.774603</td>\n",
              "      <td>(flavanoids,)</td>\n",
              "      <td>0.0709933</td>\n",
              "      <td>0.0442883</td>\n",
              "      <td>0.0255698</td>\n",
              "    </tr>\n",
              "    <tr>\n",
              "      <th>2</th>\n",
              "      <td>(6, 9)</td>\n",
              "      <td>[0.9444444444444444, 1.0, 0.9714285714285714, ...</td>\n",
              "      <td>0.95754</td>\n",
              "      <td>(flavanoids, color_intensity)</td>\n",
              "      <td>0.050932</td>\n",
              "      <td>0.0317733</td>\n",
              "      <td>0.0183443</td>\n",
              "    </tr>\n",
              "    <tr>\n",
              "      <th>3</th>\n",
              "      <td>(4, 6, 9)</td>\n",
              "      <td>[1.0, 1.0, 0.9714285714285714, 1.0]</td>\n",
              "      <td>0.992857</td>\n",
              "      <td>(magnesium, flavanoids, color_intensity)</td>\n",
              "      <td>0.0198318</td>\n",
              "      <td>0.0123718</td>\n",
              "      <td>0.00714286</td>\n",
              "    </tr>\n",
              "    <tr>\n",
              "      <th>4</th>\n",
              "      <td>(0, 4, 6, 9)</td>\n",
              "      <td>[0.9722222222222222, 0.9722222222222222, 0.971...</td>\n",
              "      <td>0.978968</td>\n",
              "      <td>(alcohol, magnesium, flavanoids, color_intensity)</td>\n",
              "      <td>0.0194714</td>\n",
              "      <td>0.012147</td>\n",
              "      <td>0.00701308</td>\n",
              "    </tr>\n",
              "    <tr>\n",
              "      <th>5</th>\n",
              "      <td>(0, 4, 6, 8, 9)</td>\n",
              "      <td>[1.0, 1.0, 0.9714285714285714, 1.0]</td>\n",
              "      <td>0.992857</td>\n",
              "      <td>(alcohol, magnesium, flavanoids, proanthocyani...</td>\n",
              "      <td>0.0198318</td>\n",
              "      <td>0.0123718</td>\n",
              "      <td>0.00714286</td>\n",
              "    </tr>\n",
              "    <tr>\n",
              "      <th>6</th>\n",
              "      <td>(0, 4, 6, 8, 9, 11)</td>\n",
              "      <td>[0.9722222222222222, 1.0, 1.0, 1.0]</td>\n",
              "      <td>0.993056</td>\n",
              "      <td>(alcohol, magnesium, flavanoids, proanthocyani...</td>\n",
              "      <td>0.0192809</td>\n",
              "      <td>0.0120281</td>\n",
              "      <td>0.00694444</td>\n",
              "    </tr>\n",
              "    <tr>\n",
              "      <th>7</th>\n",
              "      <td>(0, 1, 4, 6, 8, 9, 11)</td>\n",
              "      <td>[0.9722222222222222, 1.0, 1.0, 1.0]</td>\n",
              "      <td>0.993056</td>\n",
              "      <td>(alcohol, malic_acid, magnesium, flavanoids, p...</td>\n",
              "      <td>0.0192809</td>\n",
              "      <td>0.0120281</td>\n",
              "      <td>0.00694444</td>\n",
              "    </tr>\n",
              "  </tbody>\n",
              "</table>\n",
              "</div>"
            ],
            "text/plain": [
              "              feature_idx  ...     std_err\n",
              "1                    (6,)  ...   0.0255698\n",
              "2                  (6, 9)  ...   0.0183443\n",
              "3               (4, 6, 9)  ...  0.00714286\n",
              "4            (0, 4, 6, 9)  ...  0.00701308\n",
              "5         (0, 4, 6, 8, 9)  ...  0.00714286\n",
              "6     (0, 4, 6, 8, 9, 11)  ...  0.00694444\n",
              "7  (0, 1, 4, 6, 8, 9, 11)  ...  0.00694444\n",
              "\n",
              "[7 rows x 7 columns]"
            ]
          },
          "metadata": {
            "tags": []
          },
          "execution_count": 22
        }
      ]
    },
    {
      "cell_type": "markdown",
      "metadata": {
        "id": "hwQLKqxItesM"
      },
      "source": [
        "The above table We can see that the features are selected based on their weightage"
      ]
    },
    {
      "cell_type": "markdown",
      "metadata": {
        "id": "129cZadql35i"
      },
      "source": [
        "# Step Forward Selection with possible number of combination"
      ]
    },
    {
      "cell_type": "code",
      "metadata": {
        "colab": {
          "base_uri": "https://localhost:8080/"
        },
        "id": "ki9acgIVhMTd",
        "outputId": "9cd862ea-aeba-4c4a-ff27-b04abc1ce07d"
      },
      "source": [
        "#Creating Step Forward Selection on the data\r\n",
        "sfs1 = SFS(RandomForestClassifier(n_estimators=100, random_state=42, n_jobs = -1),\r\n",
        "          k_features = (1,8),\r\n",
        "          forward = True,\r\n",
        "          floating = False,\r\n",
        "          verbose = 2,\r\n",
        "          scoring = 'accuracy',\r\n",
        "          cv = 4,\r\n",
        "          n_jobs = -1)\r\n",
        "sfs1.fit(X_train, y_train)"
      ],
      "execution_count": 27,
      "outputs": [
        {
          "output_type": "stream",
          "text": [
            "[Parallel(n_jobs=-1)]: Using backend LokyBackend with 2 concurrent workers.\n",
            "[Parallel(n_jobs=-1)]: Done  13 out of  13 | elapsed:   10.9s finished\n",
            "\n",
            "[2021-03-10 14:40:21] Features: 1/8 -- score: 0.7746031746031745[Parallel(n_jobs=-1)]: Using backend LokyBackend with 2 concurrent workers.\n",
            "[Parallel(n_jobs=-1)]: Done  12 out of  12 | elapsed:    9.0s finished\n",
            "\n",
            "[2021-03-10 14:40:30] Features: 2/8 -- score: 0.9575396825396825[Parallel(n_jobs=-1)]: Using backend LokyBackend with 2 concurrent workers.\n",
            "[Parallel(n_jobs=-1)]: Done  11 out of  11 | elapsed:    8.6s finished\n",
            "\n",
            "[2021-03-10 14:40:39] Features: 3/8 -- score: 0.9928571428571429[Parallel(n_jobs=-1)]: Using backend LokyBackend with 2 concurrent workers.\n",
            "[Parallel(n_jobs=-1)]: Done  10 out of  10 | elapsed:    7.5s finished\n",
            "\n",
            "[2021-03-10 14:40:46] Features: 4/8 -- score: 0.9789682539682539[Parallel(n_jobs=-1)]: Using backend LokyBackend with 2 concurrent workers.\n",
            "[Parallel(n_jobs=-1)]: Done   9 out of   9 | elapsed:    7.2s finished\n",
            "\n",
            "[2021-03-10 14:40:54] Features: 5/8 -- score: 0.9928571428571429[Parallel(n_jobs=-1)]: Using backend LokyBackend with 2 concurrent workers.\n",
            "[Parallel(n_jobs=-1)]: Done   8 out of   8 | elapsed:    6.0s finished\n",
            "\n",
            "[2021-03-10 14:41:00] Features: 6/8 -- score: 0.9930555555555556[Parallel(n_jobs=-1)]: Using backend LokyBackend with 2 concurrent workers.\n",
            "[Parallel(n_jobs=-1)]: Done   7 out of   7 | elapsed:    5.8s finished\n",
            "\n",
            "[2021-03-10 14:41:05] Features: 7/8 -- score: 0.9930555555555556[Parallel(n_jobs=-1)]: Using backend LokyBackend with 2 concurrent workers.\n",
            "[Parallel(n_jobs=-1)]: Done   6 out of   6 | elapsed:    4.6s finished\n",
            "\n",
            "[2021-03-10 14:41:10] Features: 8/8 -- score: 0.9930555555555556"
          ],
          "name": "stderr"
        },
        {
          "output_type": "execute_result",
          "data": {
            "text/plain": [
              "SequentialFeatureSelector(clone_estimator=True, cv=4,\n",
              "                          estimator=RandomForestClassifier(bootstrap=True,\n",
              "                                                           ccp_alpha=0.0,\n",
              "                                                           class_weight=None,\n",
              "                                                           criterion='gini',\n",
              "                                                           max_depth=None,\n",
              "                                                           max_features='auto',\n",
              "                                                           max_leaf_nodes=None,\n",
              "                                                           max_samples=None,\n",
              "                                                           min_impurity_decrease=0.0,\n",
              "                                                           min_impurity_split=None,\n",
              "                                                           min_samples_leaf=1,\n",
              "                                                           min_samples_split=2,\n",
              "                                                           min_weight_fraction_leaf=0.0,\n",
              "                                                           n_estimators=100,\n",
              "                                                           n_jobs=-1,\n",
              "                                                           oob_score=False,\n",
              "                                                           random_state=42,\n",
              "                                                           verbose=0,\n",
              "                                                           warm_start=False),\n",
              "                          floating=False, forward=True, k_features=(1, 8),\n",
              "                          n_jobs=-1, pre_dispatch='2*n_jobs',\n",
              "                          scoring='accuracy', verbose=2)"
            ]
          },
          "metadata": {
            "tags": []
          },
          "execution_count": 27
        }
      ]
    },
    {
      "cell_type": "code",
      "metadata": {
        "colab": {
          "base_uri": "https://localhost:8080/"
        },
        "id": "V-fXSuHelEzv",
        "outputId": "b144dc99-ab33-40ab-b5b2-08c575ffd9b8"
      },
      "source": [
        "#Extracting score\r\n",
        "sfs1.k_score_"
      ],
      "execution_count": 29,
      "outputs": [
        {
          "output_type": "execute_result",
          "data": {
            "text/plain": [
              "0.9930555555555556"
            ]
          },
          "metadata": {
            "tags": []
          },
          "execution_count": 29
        }
      ]
    },
    {
      "cell_type": "code",
      "metadata": {
        "colab": {
          "base_uri": "https://localhost:8080/"
        },
        "id": "7KE2mulylhsp",
        "outputId": "a78931a6-2138-4449-a297-82039601a27b"
      },
      "source": [
        "#Extracting the feature names\r\n",
        "sfs1.k_feature_names_"
      ],
      "execution_count": 30,
      "outputs": [
        {
          "output_type": "execute_result",
          "data": {
            "text/plain": [
              "('alcohol',\n",
              " 'magnesium',\n",
              " 'flavanoids',\n",
              " 'proanthocyanins',\n",
              " 'color_intensity',\n",
              " 'od280/od315_of_diluted_wines')"
            ]
          },
          "metadata": {
            "tags": []
          },
          "execution_count": 30
        }
      ]
    },
    {
      "cell_type": "code",
      "metadata": {
        "colab": {
          "base_uri": "https://localhost:8080/",
          "height": 297
        },
        "id": "pfdDEWCCtzpY",
        "outputId": "6702cf1a-fa18-44f5-a863-e5483e1e146f"
      },
      "source": [
        "#Checking the summary of the SFS\r\n",
        "pd.DataFrame(sfs1.get_metric_dict()).T"
      ],
      "execution_count": 42,
      "outputs": [
        {
          "output_type": "execute_result",
          "data": {
            "text/html": [
              "<div>\n",
              "<style scoped>\n",
              "    .dataframe tbody tr th:only-of-type {\n",
              "        vertical-align: middle;\n",
              "    }\n",
              "\n",
              "    .dataframe tbody tr th {\n",
              "        vertical-align: top;\n",
              "    }\n",
              "\n",
              "    .dataframe thead th {\n",
              "        text-align: right;\n",
              "    }\n",
              "</style>\n",
              "<table border=\"1\" class=\"dataframe\">\n",
              "  <thead>\n",
              "    <tr style=\"text-align: right;\">\n",
              "      <th></th>\n",
              "      <th>feature_idx</th>\n",
              "      <th>cv_scores</th>\n",
              "      <th>avg_score</th>\n",
              "      <th>feature_names</th>\n",
              "      <th>ci_bound</th>\n",
              "      <th>std_dev</th>\n",
              "      <th>std_err</th>\n",
              "    </tr>\n",
              "  </thead>\n",
              "  <tbody>\n",
              "    <tr>\n",
              "      <th>1</th>\n",
              "      <td>(6,)</td>\n",
              "      <td>[0.7222222222222222, 0.8333333333333334, 0.742...</td>\n",
              "      <td>0.774603</td>\n",
              "      <td>(flavanoids,)</td>\n",
              "      <td>0.0709933</td>\n",
              "      <td>0.0442883</td>\n",
              "      <td>0.0255698</td>\n",
              "    </tr>\n",
              "    <tr>\n",
              "      <th>2</th>\n",
              "      <td>(6, 9)</td>\n",
              "      <td>[0.9444444444444444, 1.0, 0.9714285714285714, ...</td>\n",
              "      <td>0.95754</td>\n",
              "      <td>(flavanoids, color_intensity)</td>\n",
              "      <td>0.050932</td>\n",
              "      <td>0.0317733</td>\n",
              "      <td>0.0183443</td>\n",
              "    </tr>\n",
              "    <tr>\n",
              "      <th>3</th>\n",
              "      <td>(4, 6, 9)</td>\n",
              "      <td>[1.0, 1.0, 0.9714285714285714, 1.0]</td>\n",
              "      <td>0.992857</td>\n",
              "      <td>(magnesium, flavanoids, color_intensity)</td>\n",
              "      <td>0.0198318</td>\n",
              "      <td>0.0123718</td>\n",
              "      <td>0.00714286</td>\n",
              "    </tr>\n",
              "    <tr>\n",
              "      <th>4</th>\n",
              "      <td>(0, 4, 6, 9)</td>\n",
              "      <td>[0.9722222222222222, 0.9722222222222222, 0.971...</td>\n",
              "      <td>0.978968</td>\n",
              "      <td>(alcohol, magnesium, flavanoids, color_intensity)</td>\n",
              "      <td>0.0194714</td>\n",
              "      <td>0.012147</td>\n",
              "      <td>0.00701308</td>\n",
              "    </tr>\n",
              "    <tr>\n",
              "      <th>5</th>\n",
              "      <td>(0, 4, 6, 8, 9)</td>\n",
              "      <td>[1.0, 1.0, 0.9714285714285714, 1.0]</td>\n",
              "      <td>0.992857</td>\n",
              "      <td>(alcohol, magnesium, flavanoids, proanthocyani...</td>\n",
              "      <td>0.0198318</td>\n",
              "      <td>0.0123718</td>\n",
              "      <td>0.00714286</td>\n",
              "    </tr>\n",
              "    <tr>\n",
              "      <th>6</th>\n",
              "      <td>(0, 4, 6, 8, 9, 11)</td>\n",
              "      <td>[0.9722222222222222, 1.0, 1.0, 1.0]</td>\n",
              "      <td>0.993056</td>\n",
              "      <td>(alcohol, magnesium, flavanoids, proanthocyani...</td>\n",
              "      <td>0.0192809</td>\n",
              "      <td>0.0120281</td>\n",
              "      <td>0.00694444</td>\n",
              "    </tr>\n",
              "    <tr>\n",
              "      <th>7</th>\n",
              "      <td>(0, 1, 4, 6, 8, 9, 11)</td>\n",
              "      <td>[0.9722222222222222, 1.0, 1.0, 1.0]</td>\n",
              "      <td>0.993056</td>\n",
              "      <td>(alcohol, malic_acid, magnesium, flavanoids, p...</td>\n",
              "      <td>0.0192809</td>\n",
              "      <td>0.0120281</td>\n",
              "      <td>0.00694444</td>\n",
              "    </tr>\n",
              "    <tr>\n",
              "      <th>8</th>\n",
              "      <td>(0, 1, 3, 4, 6, 8, 9, 11)</td>\n",
              "      <td>[0.9722222222222222, 1.0, 1.0, 1.0]</td>\n",
              "      <td>0.993056</td>\n",
              "      <td>(alcohol, malic_acid, alcalinity_of_ash, magne...</td>\n",
              "      <td>0.0192809</td>\n",
              "      <td>0.0120281</td>\n",
              "      <td>0.00694444</td>\n",
              "    </tr>\n",
              "  </tbody>\n",
              "</table>\n",
              "</div>"
            ],
            "text/plain": [
              "                 feature_idx  ...     std_err\n",
              "1                       (6,)  ...   0.0255698\n",
              "2                     (6, 9)  ...   0.0183443\n",
              "3                  (4, 6, 9)  ...  0.00714286\n",
              "4               (0, 4, 6, 9)  ...  0.00701308\n",
              "5            (0, 4, 6, 8, 9)  ...  0.00714286\n",
              "6        (0, 4, 6, 8, 9, 11)  ...  0.00694444\n",
              "7     (0, 1, 4, 6, 8, 9, 11)  ...  0.00694444\n",
              "8  (0, 1, 3, 4, 6, 8, 9, 11)  ...  0.00694444\n",
              "\n",
              "[8 rows x 7 columns]"
            ]
          },
          "metadata": {
            "tags": []
          },
          "execution_count": 42
        }
      ]
    },
    {
      "cell_type": "markdown",
      "metadata": {
        "id": "cB2r7pvRmDJM"
      },
      "source": [
        "# Step Backward Selection"
      ]
    },
    {
      "cell_type": "code",
      "metadata": {
        "colab": {
          "base_uri": "https://localhost:8080/"
        },
        "id": "UqTyMvaglt5l",
        "outputId": "287f1c45-0615-43a1-9390-47302da1b351"
      },
      "source": [
        "#Creating Step Backward Selection on the data\r\n",
        "sbs2 = SFS(RandomForestClassifier(n_estimators=100, random_state=42, n_jobs = -1),\r\n",
        "          k_features = (1,8),\r\n",
        "          forward = False,\r\n",
        "          floating = False,\r\n",
        "          verbose = 2,\r\n",
        "          scoring = 'accuracy',\r\n",
        "          cv = 4,\r\n",
        "          n_jobs = -1).fit(X_train.values, y_train)"
      ],
      "execution_count": 44,
      "outputs": [
        {
          "output_type": "stream",
          "text": [
            "[Parallel(n_jobs=-1)]: Using backend LokyBackend with 2 concurrent workers.\n",
            "[Parallel(n_jobs=-1)]: Done  13 out of  13 | elapsed:   10.1s finished\n",
            "\n",
            "[2021-03-10 15:20:33] Features: 12/1 -- score: 0.9861111111111112[Parallel(n_jobs=-1)]: Using backend LokyBackend with 2 concurrent workers.\n",
            "[Parallel(n_jobs=-1)]: Done  12 out of  12 | elapsed:    8.8s finished\n",
            "\n",
            "[2021-03-10 15:20:42] Features: 11/1 -- score: 0.9861111111111112[Parallel(n_jobs=-1)]: Using backend LokyBackend with 2 concurrent workers.\n",
            "[Parallel(n_jobs=-1)]: Done  11 out of  11 | elapsed:    8.6s finished\n",
            "\n",
            "[2021-03-10 15:20:50] Features: 10/1 -- score: 0.9930555555555556[Parallel(n_jobs=-1)]: Using backend LokyBackend with 2 concurrent workers.\n",
            "[Parallel(n_jobs=-1)]: Done  10 out of  10 | elapsed:    7.4s finished\n",
            "\n",
            "[2021-03-10 15:20:58] Features: 9/1 -- score: 0.9930555555555556[Parallel(n_jobs=-1)]: Using backend LokyBackend with 2 concurrent workers.\n",
            "[Parallel(n_jobs=-1)]: Done   9 out of   9 | elapsed:    7.2s finished\n",
            "\n",
            "[2021-03-10 15:21:05] Features: 8/1 -- score: 0.9861111111111112[Parallel(n_jobs=-1)]: Using backend LokyBackend with 2 concurrent workers.\n",
            "[Parallel(n_jobs=-1)]: Done   8 out of   8 | elapsed:    6.1s finished\n",
            "\n",
            "[2021-03-10 15:21:11] Features: 7/1 -- score: 0.9930555555555556[Parallel(n_jobs=-1)]: Using backend LokyBackend with 2 concurrent workers.\n",
            "[Parallel(n_jobs=-1)]: Done   7 out of   7 | elapsed:    5.7s finished\n",
            "\n",
            "[2021-03-10 15:21:17] Features: 6/1 -- score: 0.9859126984126985[Parallel(n_jobs=-1)]: Using backend LokyBackend with 2 concurrent workers.\n",
            "[Parallel(n_jobs=-1)]: Done   6 out of   6 | elapsed:    4.6s finished\n",
            "\n",
            "[2021-03-10 15:21:21] Features: 5/1 -- score: 0.9787698412698413[Parallel(n_jobs=-1)]: Using backend LokyBackend with 2 concurrent workers.\n",
            "[Parallel(n_jobs=-1)]: Done   5 out of   5 | elapsed:    4.3s remaining:    0.0s\n",
            "[Parallel(n_jobs=-1)]: Done   5 out of   5 | elapsed:    4.3s finished\n",
            "\n",
            "[2021-03-10 15:21:26] Features: 4/1 -- score: 0.9646825396825396[Parallel(n_jobs=-1)]: Using backend LokyBackend with 2 concurrent workers.\n",
            "[Parallel(n_jobs=-1)]: Done   4 out of   4 | elapsed:    3.0s remaining:    0.0s\n",
            "[Parallel(n_jobs=-1)]: Done   4 out of   4 | elapsed:    3.0s finished\n",
            "\n",
            "[2021-03-10 15:21:29] Features: 3/1 -- score: 0.9646825396825396[Parallel(n_jobs=-1)]: Using backend LokyBackend with 2 concurrent workers.\n",
            "[Parallel(n_jobs=-1)]: Done   3 out of   3 | elapsed:    2.9s finished\n",
            "\n",
            "[2021-03-10 15:21:32] Features: 2/1 -- score: 0.9287698412698413[Parallel(n_jobs=-1)]: Using backend LokyBackend with 2 concurrent workers.\n",
            "[Parallel(n_jobs=-1)]: Done   2 out of   2 | elapsed:    1.5s finished\n",
            "\n",
            "[2021-03-10 15:21:33] Features: 1/1 -- score: 0.6615079365079365"
          ],
          "name": "stderr"
        }
      ]
    },
    {
      "cell_type": "code",
      "metadata": {
        "colab": {
          "base_uri": "https://localhost:8080/"
        },
        "id": "cRH9giJmpDSP",
        "outputId": "76766914-855b-41ed-b683-54803463b19f"
      },
      "source": [
        "#Extracting best score\r\n",
        "sbs2.k_score_"
      ],
      "execution_count": 53,
      "outputs": [
        {
          "output_type": "execute_result",
          "data": {
            "text/plain": [
              "0.9930555555555556"
            ]
          },
          "metadata": {
            "tags": []
          },
          "execution_count": 53
        }
      ]
    },
    {
      "cell_type": "code",
      "metadata": {
        "colab": {
          "base_uri": "https://localhost:8080/"
        },
        "id": "5GTgWln5r6Tg",
        "outputId": "1526f0c9-6593-4e6f-9b95-e94a092fef6d"
      },
      "source": [
        "#Extracting the features index\r\n",
        "sbs2.k_feature_idx_"
      ],
      "execution_count": 54,
      "outputs": [
        {
          "output_type": "execute_result",
          "data": {
            "text/plain": [
              "(0, 1, 2, 3, 5, 9, 11)"
            ]
          },
          "metadata": {
            "tags": []
          },
          "execution_count": 54
        }
      ]
    },
    {
      "cell_type": "code",
      "metadata": {
        "colab": {
          "base_uri": "https://localhost:8080/"
        },
        "id": "-W1kTOlUxO8g",
        "outputId": "3a2701dd-1127-4de0-b4a5-4c7e78fe1dad"
      },
      "source": [
        "#Extracting the features\r\n",
        "X_train.columns[list(sbs2.k_feature_idx_)]"
      ],
      "execution_count": 52,
      "outputs": [
        {
          "output_type": "execute_result",
          "data": {
            "text/plain": [
              "Index(['alcohol', 'malic_acid', 'ash', 'alcalinity_of_ash', 'total_phenols',\n",
              "       'color_intensity', 'od280/od315_of_diluted_wines'],\n",
              "      dtype='object')"
            ]
          },
          "metadata": {
            "tags": []
          },
          "execution_count": 52
        }
      ]
    },
    {
      "cell_type": "code",
      "metadata": {
        "colab": {
          "base_uri": "https://localhost:8080/",
          "height": 452
        },
        "id": "MBUmDSoXw66V",
        "outputId": "4dba1049-2361-4545-ad6b-95de2c4af1ca"
      },
      "source": [
        "#Checking the summary of the SFS\r\n",
        "pd.DataFrame(sbs2.get_metric_dict()).T"
      ],
      "execution_count": 47,
      "outputs": [
        {
          "output_type": "execute_result",
          "data": {
            "text/html": [
              "<div>\n",
              "<style scoped>\n",
              "    .dataframe tbody tr th:only-of-type {\n",
              "        vertical-align: middle;\n",
              "    }\n",
              "\n",
              "    .dataframe tbody tr th {\n",
              "        vertical-align: top;\n",
              "    }\n",
              "\n",
              "    .dataframe thead th {\n",
              "        text-align: right;\n",
              "    }\n",
              "</style>\n",
              "<table border=\"1\" class=\"dataframe\">\n",
              "  <thead>\n",
              "    <tr style=\"text-align: right;\">\n",
              "      <th></th>\n",
              "      <th>feature_idx</th>\n",
              "      <th>cv_scores</th>\n",
              "      <th>avg_score</th>\n",
              "      <th>feature_names</th>\n",
              "      <th>ci_bound</th>\n",
              "      <th>std_dev</th>\n",
              "      <th>std_err</th>\n",
              "    </tr>\n",
              "  </thead>\n",
              "  <tbody>\n",
              "    <tr>\n",
              "      <th>13</th>\n",
              "      <td>(0, 1, 2, 3, 4, 5, 6, 7, 8, 9, 10, 11, 12)</td>\n",
              "      <td>[0.9444444444444444, 0.9722222222222222, 1.0, ...</td>\n",
              "      <td>0.979167</td>\n",
              "      <td>(0, 1, 2, 3, 4, 5, 6, 7, 8, 9, 10, 11, 12)</td>\n",
              "      <td>0.0369201</td>\n",
              "      <td>0.0230321</td>\n",
              "      <td>0.0132976</td>\n",
              "    </tr>\n",
              "    <tr>\n",
              "      <th>12</th>\n",
              "      <td>(0, 1, 2, 3, 4, 5, 6, 7, 8, 9, 11, 12)</td>\n",
              "      <td>[0.9722222222222222, 0.9722222222222222, 1.0, ...</td>\n",
              "      <td>0.986111</td>\n",
              "      <td>(0, 1, 2, 3, 4, 5, 6, 7, 8, 9, 11, 12)</td>\n",
              "      <td>0.0222636</td>\n",
              "      <td>0.0138889</td>\n",
              "      <td>0.00801875</td>\n",
              "    </tr>\n",
              "    <tr>\n",
              "      <th>11</th>\n",
              "      <td>(0, 1, 2, 3, 4, 5, 6, 7, 9, 11, 12)</td>\n",
              "      <td>[0.9722222222222222, 0.9722222222222222, 1.0, ...</td>\n",
              "      <td>0.986111</td>\n",
              "      <td>(0, 1, 2, 3, 4, 5, 6, 7, 9, 11, 12)</td>\n",
              "      <td>0.0222636</td>\n",
              "      <td>0.0138889</td>\n",
              "      <td>0.00801875</td>\n",
              "    </tr>\n",
              "    <tr>\n",
              "      <th>10</th>\n",
              "      <td>(0, 1, 2, 3, 4, 5, 6, 7, 9, 11)</td>\n",
              "      <td>[0.9722222222222222, 1.0, 1.0, 1.0]</td>\n",
              "      <td>0.993056</td>\n",
              "      <td>(0, 1, 2, 3, 4, 5, 6, 7, 9, 11)</td>\n",
              "      <td>0.0192809</td>\n",
              "      <td>0.0120281</td>\n",
              "      <td>0.00694444</td>\n",
              "    </tr>\n",
              "    <tr>\n",
              "      <th>9</th>\n",
              "      <td>(0, 1, 2, 3, 4, 5, 7, 9, 11)</td>\n",
              "      <td>[0.9722222222222222, 1.0, 1.0, 1.0]</td>\n",
              "      <td>0.993056</td>\n",
              "      <td>(0, 1, 2, 3, 4, 5, 7, 9, 11)</td>\n",
              "      <td>0.0192809</td>\n",
              "      <td>0.0120281</td>\n",
              "      <td>0.00694444</td>\n",
              "    </tr>\n",
              "    <tr>\n",
              "      <th>8</th>\n",
              "      <td>(0, 1, 2, 3, 4, 5, 9, 11)</td>\n",
              "      <td>[0.9722222222222222, 0.9722222222222222, 1.0, ...</td>\n",
              "      <td>0.986111</td>\n",
              "      <td>(0, 1, 2, 3, 4, 5, 9, 11)</td>\n",
              "      <td>0.0222636</td>\n",
              "      <td>0.0138889</td>\n",
              "      <td>0.00801875</td>\n",
              "    </tr>\n",
              "    <tr>\n",
              "      <th>7</th>\n",
              "      <td>(0, 1, 2, 3, 5, 9, 11)</td>\n",
              "      <td>[0.9722222222222222, 1.0, 1.0, 1.0]</td>\n",
              "      <td>0.993056</td>\n",
              "      <td>(0, 1, 2, 3, 5, 9, 11)</td>\n",
              "      <td>0.0192809</td>\n",
              "      <td>0.0120281</td>\n",
              "      <td>0.00694444</td>\n",
              "    </tr>\n",
              "    <tr>\n",
              "      <th>6</th>\n",
              "      <td>(0, 1, 2, 5, 9, 11)</td>\n",
              "      <td>[0.9722222222222222, 1.0, 1.0, 0.9714285714285...</td>\n",
              "      <td>0.985913</td>\n",
              "      <td>(0, 1, 2, 5, 9, 11)</td>\n",
              "      <td>0.0225862</td>\n",
              "      <td>0.0140901</td>\n",
              "      <td>0.00813492</td>\n",
              "    </tr>\n",
              "    <tr>\n",
              "      <th>5</th>\n",
              "      <td>(0, 1, 5, 9, 11)</td>\n",
              "      <td>[0.9722222222222222, 1.0, 1.0, 0.9428571428571...</td>\n",
              "      <td>0.97877</td>\n",
              "      <td>(0, 1, 5, 9, 11)</td>\n",
              "      <td>0.0378829</td>\n",
              "      <td>0.0236328</td>\n",
              "      <td>0.0136444</td>\n",
              "    </tr>\n",
              "    <tr>\n",
              "      <th>4</th>\n",
              "      <td>(0, 5, 9, 11)</td>\n",
              "      <td>[0.9722222222222222, 0.9722222222222222, 0.971...</td>\n",
              "      <td>0.964683</td>\n",
              "      <td>(0, 5, 9, 11)</td>\n",
              "      <td>0.0202057</td>\n",
              "      <td>0.0126051</td>\n",
              "      <td>0.00727754</td>\n",
              "    </tr>\n",
              "    <tr>\n",
              "      <th>3</th>\n",
              "      <td>(0, 9, 11)</td>\n",
              "      <td>[0.9722222222222222, 0.9722222222222222, 0.971...</td>\n",
              "      <td>0.964683</td>\n",
              "      <td>(0, 9, 11)</td>\n",
              "      <td>0.0202057</td>\n",
              "      <td>0.0126051</td>\n",
              "      <td>0.00727754</td>\n",
              "    </tr>\n",
              "    <tr>\n",
              "      <th>2</th>\n",
              "      <td>(9, 11)</td>\n",
              "      <td>[0.9722222222222222, 1.0, 0.8857142857142857, ...</td>\n",
              "      <td>0.92877</td>\n",
              "      <td>(9, 11)</td>\n",
              "      <td>0.0946508</td>\n",
              "      <td>0.0590467</td>\n",
              "      <td>0.0340906</td>\n",
              "    </tr>\n",
              "    <tr>\n",
              "      <th>1</th>\n",
              "      <td>(11,)</td>\n",
              "      <td>[0.5833333333333334, 0.8055555555555556, 0.657...</td>\n",
              "      <td>0.661508</td>\n",
              "      <td>(11,)</td>\n",
              "      <td>0.140348</td>\n",
              "      <td>0.0875546</td>\n",
              "      <td>0.0505497</td>\n",
              "    </tr>\n",
              "  </tbody>\n",
              "</table>\n",
              "</div>"
            ],
            "text/plain": [
              "                                   feature_idx  ...     std_err\n",
              "13  (0, 1, 2, 3, 4, 5, 6, 7, 8, 9, 10, 11, 12)  ...   0.0132976\n",
              "12      (0, 1, 2, 3, 4, 5, 6, 7, 8, 9, 11, 12)  ...  0.00801875\n",
              "11         (0, 1, 2, 3, 4, 5, 6, 7, 9, 11, 12)  ...  0.00801875\n",
              "10             (0, 1, 2, 3, 4, 5, 6, 7, 9, 11)  ...  0.00694444\n",
              "9                 (0, 1, 2, 3, 4, 5, 7, 9, 11)  ...  0.00694444\n",
              "8                    (0, 1, 2, 3, 4, 5, 9, 11)  ...  0.00801875\n",
              "7                       (0, 1, 2, 3, 5, 9, 11)  ...  0.00694444\n",
              "6                          (0, 1, 2, 5, 9, 11)  ...  0.00813492\n",
              "5                             (0, 1, 5, 9, 11)  ...   0.0136444\n",
              "4                                (0, 5, 9, 11)  ...  0.00727754\n",
              "3                                   (0, 9, 11)  ...  0.00727754\n",
              "2                                      (9, 11)  ...   0.0340906\n",
              "1                                        (11,)  ...   0.0505497\n",
              "\n",
              "[13 rows x 7 columns]"
            ]
          },
          "metadata": {
            "tags": []
          },
          "execution_count": 47
        }
      ]
    },
    {
      "cell_type": "markdown",
      "metadata": {
        "id": "XgTXErvex5Cz"
      },
      "source": [
        "#Exhaustive Feature Selection"
      ]
    },
    {
      "cell_type": "code",
      "metadata": {
        "colab": {
          "base_uri": "https://localhost:8080/"
        },
        "id": "_TbWAoOSxogI",
        "outputId": "b616d372-dad6-4a75-cb08-2631aab040f7"
      },
      "source": [
        "#Creating Exhaustive Feature Selection on the data\r\n",
        "efs = EFS(RandomForestClassifier(n_estimators=100, random_state=0, n_jobs = -1),\r\n",
        "          min_features = 4,\r\n",
        "          max_features = 5,\r\n",
        "          scoring = 'accuracy',\r\n",
        "          cv = None,\r\n",
        "          n_jobs = -1).fit(X_train, y_train)"
      ],
      "execution_count": 79,
      "outputs": [
        {
          "output_type": "stream",
          "text": [
            "Features: 2002/2002"
          ],
          "name": "stderr"
        }
      ]
    },
    {
      "cell_type": "code",
      "metadata": {
        "colab": {
          "base_uri": "https://localhost:8080/"
        },
        "id": "MdQ6Xk4H1Bv8",
        "outputId": "7c796b9c-5395-4692-a6f2-d78e924dc0e8"
      },
      "source": [
        "#Extracting score\r\n",
        "efs.best_score_"
      ],
      "execution_count": 80,
      "outputs": [
        {
          "output_type": "execute_result",
          "data": {
            "text/plain": [
              "1.0"
            ]
          },
          "metadata": {
            "tags": []
          },
          "execution_count": 80
        }
      ]
    },
    {
      "cell_type": "code",
      "metadata": {
        "colab": {
          "base_uri": "https://localhost:8080/"
        },
        "id": "NUCh2vDk1GAY",
        "outputId": "0d04c707-c03d-4304-f375-3dc920e6435c"
      },
      "source": [
        "#Extracting features\r\n",
        "efs.best_feature_names_"
      ],
      "execution_count": 103,
      "outputs": [
        {
          "output_type": "execute_result",
          "data": {
            "text/plain": [
              "('alcohol', 'malic_acid', 'ash', 'alcalinity_of_ash')"
            ]
          },
          "metadata": {
            "tags": []
          },
          "execution_count": 103
        }
      ]
    },
    {
      "cell_type": "code",
      "metadata": {
        "colab": {
          "base_uri": "https://localhost:8080/",
          "height": 347
        },
        "id": "esSR6XzQ1M_O",
        "outputId": "bbb94926-2ffe-4af2-8a60-71f08284cbc9"
      },
      "source": [
        "#Visualizing the all featues combination perform in Exhaustive Feature Selection\r\n",
        "plt_sfs(efs.get_metric_dict(), kind = 'std_dev');"
      ],
      "execution_count": 102,
      "outputs": [
        {
          "output_type": "stream",
          "text": [
            "/usr/local/lib/python3.7/dist-packages/numpy/core/_methods.py:234: RuntimeWarning: Degrees of freedom <= 0 for slice\n",
            "  keepdims=keepdims)\n",
            "/usr/local/lib/python3.7/dist-packages/numpy/core/_methods.py:226: RuntimeWarning: invalid value encountered in double_scalars\n",
            "  ret = ret.dtype.type(ret / rcount)\n"
          ],
          "name": "stderr"
        },
        {
          "output_type": "display_data",
          "data": {
            "image/png": "[encoded data removed]",
            "text/plain": [
              "<Figure size 432x288 with 1 Axes>"
            ]
          },
          "metadata": {
            "tags": [],
            "needs_background": "light"
          }
        }
      ]
    },
    {
      "cell_type": "code",
      "metadata": {
        "colab": {
          "base_uri": "https://localhost:8080/",
          "height": 487
        },
        "id": "hp1KfHId4IGx",
        "outputId": "12734ab3-2946-480a-c61b-21c19dc02bb4"
      },
      "source": [
        "#Checking the summary of the SBS\r\n",
        "pd.DataFrame(efs.get_metric_dict()).T"
      ],
      "execution_count": 104,
      "outputs": [
        {
          "output_type": "stream",
          "text": [
            "/usr/local/lib/python3.7/dist-packages/numpy/core/_methods.py:234: RuntimeWarning: Degrees of freedom <= 0 for slice\n",
            "  keepdims=keepdims)\n",
            "/usr/local/lib/python3.7/dist-packages/numpy/core/_methods.py:226: RuntimeWarning: invalid value encountered in double_scalars\n",
            "  ret = ret.dtype.type(ret / rcount)\n"
          ],
          "name": "stderr"
        },
        {
          "output_type": "execute_result",
          "data": {
            "text/html": [
              "<div>\n",
              "<style scoped>\n",
              "    .dataframe tbody tr th:only-of-type {\n",
              "        vertical-align: middle;\n",
              "    }\n",
              "\n",
              "    .dataframe tbody tr th {\n",
              "        vertical-align: top;\n",
              "    }\n",
              "\n",
              "    .dataframe thead th {\n",
              "        text-align: right;\n",
              "    }\n",
              "</style>\n",
              "<table border=\"1\" class=\"dataframe\">\n",
              "  <thead>\n",
              "    <tr style=\"text-align: right;\">\n",
              "      <th></th>\n",
              "      <th>feature_idx</th>\n",
              "      <th>cv_scores</th>\n",
              "      <th>avg_score</th>\n",
              "      <th>feature_names</th>\n",
              "      <th>ci_bound</th>\n",
              "      <th>std_dev</th>\n",
              "      <th>std_err</th>\n",
              "    </tr>\n",
              "  </thead>\n",
              "  <tbody>\n",
              "    <tr>\n",
              "      <th>0</th>\n",
              "      <td>(0, 1, 2, 3)</td>\n",
              "      <td>[1.0]</td>\n",
              "      <td>1</td>\n",
              "      <td>(alcohol, malic_acid, ash, alcalinity_of_ash)</td>\n",
              "      <td>NaN</td>\n",
              "      <td>0</td>\n",
              "      <td>NaN</td>\n",
              "    </tr>\n",
              "    <tr>\n",
              "      <th>1</th>\n",
              "      <td>(0, 1, 2, 4)</td>\n",
              "      <td>[1.0]</td>\n",
              "      <td>1</td>\n",
              "      <td>(alcohol, malic_acid, ash, magnesium)</td>\n",
              "      <td>NaN</td>\n",
              "      <td>0</td>\n",
              "      <td>NaN</td>\n",
              "    </tr>\n",
              "    <tr>\n",
              "      <th>2</th>\n",
              "      <td>(0, 1, 2, 5)</td>\n",
              "      <td>[1.0]</td>\n",
              "      <td>1</td>\n",
              "      <td>(alcohol, malic_acid, ash, total_phenols)</td>\n",
              "      <td>NaN</td>\n",
              "      <td>0</td>\n",
              "      <td>NaN</td>\n",
              "    </tr>\n",
              "    <tr>\n",
              "      <th>3</th>\n",
              "      <td>(0, 1, 2, 6)</td>\n",
              "      <td>[1.0]</td>\n",
              "      <td>1</td>\n",
              "      <td>(alcohol, malic_acid, ash, flavanoids)</td>\n",
              "      <td>NaN</td>\n",
              "      <td>0</td>\n",
              "      <td>NaN</td>\n",
              "    </tr>\n",
              "    <tr>\n",
              "      <th>4</th>\n",
              "      <td>(0, 1, 2, 7)</td>\n",
              "      <td>[1.0]</td>\n",
              "      <td>1</td>\n",
              "      <td>(alcohol, malic_acid, ash, nonflavanoid_phenols)</td>\n",
              "      <td>NaN</td>\n",
              "      <td>0</td>\n",
              "      <td>NaN</td>\n",
              "    </tr>\n",
              "    <tr>\n",
              "      <th>...</th>\n",
              "      <td>...</td>\n",
              "      <td>...</td>\n",
              "      <td>...</td>\n",
              "      <td>...</td>\n",
              "      <td>...</td>\n",
              "      <td>...</td>\n",
              "      <td>...</td>\n",
              "    </tr>\n",
              "    <tr>\n",
              "      <th>1997</th>\n",
              "      <td>(7, 8, 9, 10, 12)</td>\n",
              "      <td>[1.0]</td>\n",
              "      <td>1</td>\n",
              "      <td>(nonflavanoid_phenols, proanthocyanins, color_...</td>\n",
              "      <td>NaN</td>\n",
              "      <td>0</td>\n",
              "      <td>NaN</td>\n",
              "    </tr>\n",
              "    <tr>\n",
              "      <th>1998</th>\n",
              "      <td>(7, 8, 9, 11, 12)</td>\n",
              "      <td>[1.0]</td>\n",
              "      <td>1</td>\n",
              "      <td>(nonflavanoid_phenols, proanthocyanins, color_...</td>\n",
              "      <td>NaN</td>\n",
              "      <td>0</td>\n",
              "      <td>NaN</td>\n",
              "    </tr>\n",
              "    <tr>\n",
              "      <th>1999</th>\n",
              "      <td>(7, 8, 10, 11, 12)</td>\n",
              "      <td>[1.0]</td>\n",
              "      <td>1</td>\n",
              "      <td>(nonflavanoid_phenols, proanthocyanins, hue, o...</td>\n",
              "      <td>NaN</td>\n",
              "      <td>0</td>\n",
              "      <td>NaN</td>\n",
              "    </tr>\n",
              "    <tr>\n",
              "      <th>2000</th>\n",
              "      <td>(7, 9, 10, 11, 12)</td>\n",
              "      <td>[1.0]</td>\n",
              "      <td>1</td>\n",
              "      <td>(nonflavanoid_phenols, color_intensity, hue, o...</td>\n",
              "      <td>NaN</td>\n",
              "      <td>0</td>\n",
              "      <td>NaN</td>\n",
              "    </tr>\n",
              "    <tr>\n",
              "      <th>2001</th>\n",
              "      <td>(8, 9, 10, 11, 12)</td>\n",
              "      <td>[1.0]</td>\n",
              "      <td>1</td>\n",
              "      <td>(proanthocyanins, color_intensity, hue, od280/...</td>\n",
              "      <td>NaN</td>\n",
              "      <td>0</td>\n",
              "      <td>NaN</td>\n",
              "    </tr>\n",
              "  </tbody>\n",
              "</table>\n",
              "<p>2002 rows × 7 columns</p>\n",
              "</div>"
            ],
            "text/plain": [
              "             feature_idx cv_scores avg_score  ... ci_bound std_dev std_err\n",
              "0           (0, 1, 2, 3)     [1.0]         1  ...      NaN       0     NaN\n",
              "1           (0, 1, 2, 4)     [1.0]         1  ...      NaN       0     NaN\n",
              "2           (0, 1, 2, 5)     [1.0]         1  ...      NaN       0     NaN\n",
              "3           (0, 1, 2, 6)     [1.0]         1  ...      NaN       0     NaN\n",
              "4           (0, 1, 2, 7)     [1.0]         1  ...      NaN       0     NaN\n",
              "...                  ...       ...       ...  ...      ...     ...     ...\n",
              "1997   (7, 8, 9, 10, 12)     [1.0]         1  ...      NaN       0     NaN\n",
              "1998   (7, 8, 9, 11, 12)     [1.0]         1  ...      NaN       0     NaN\n",
              "1999  (7, 8, 10, 11, 12)     [1.0]         1  ...      NaN       0     NaN\n",
              "2000  (7, 9, 10, 11, 12)     [1.0]         1  ...      NaN       0     NaN\n",
              "2001  (8, 9, 10, 11, 12)     [1.0]         1  ...      NaN       0     NaN\n",
              "\n",
              "[2002 rows x 7 columns]"
            ]
          },
          "metadata": {
            "tags": []
          },
          "execution_count": 104
        }
      ]
    }
  ]
}