{
  "nbformat": 4,
  "nbformat_minor": 0,
  "metadata": {
    "colab": {
      "name": "Feature selection by mutual information gain on classification & Regression.ipynb",
      "provenance": [],
      "collapsed_sections": [],
      "authorship_tag": "ABX9TyM7zCKsD9CGXuRh++AZHjJh",
      "include_colab_link": true
    },
    "kernelspec": {
      "name": "python3",
      "display_name": "Python 3"
    }
  },
  "cells": [
    {
      "cell_type": "markdown",
      "metadata": {
        "id": "view-in-github",
        "colab_type": "text"
      },
      "source": [
        "<a href=\"https://colab.research.google.com/github/BhavikDudhrejiya/Feature-Selection-Methods/blob/main/Feature_selection_by_mutual_information_gain_on_classification_%26_Regression.ipynb\" target=\"_parent\"><img src=\"https://colab.research.google.com/assets/colab-badge.svg\" alt=\"Open In Colab\"/></a>"
      ]
    },
    {
      "cell_type": "markdown",
      "metadata": {
        "id": "oAJAFKyVYoR_"
      },
      "source": [
        "#Feature selection by mutual information gain on classification"
      ]
    },
    {
      "cell_type": "code",
      "metadata": {
        "id": "3Vk2rrL8-GmS"
      },
      "source": [
        "#Importing libraries\r\n",
        "import pandas as pd\r\n",
        "import numpy as np\r\n",
        "import matplotlib.pyplot as plt\r\n",
        "import seaborn as sns\r\n",
        "from sklearn.model_selection import train_test_split\r\n",
        "from sklearn.ensemble import RandomForestClassifier\r\n",
        "from sklearn.metrics import accuracy_score\r\n",
        "from sklearn.feature_selection import VarianceThreshold, mutual_info_classif, mutual_info_regression, SelectKBest, SelectPercentile\r\n",
        "from sklearn.datasets import load_breast_cancer"
      ],
      "execution_count": 72,
      "outputs": []
    },
    {
      "cell_type": "code",
      "metadata": {
        "id": "0bUf4UpB-nDI"
      },
      "source": [
        "#Loading data\r\n",
        "data = load_breast_cancer()"
      ],
      "execution_count": 73,
      "outputs": []
    },
    {
      "cell_type": "code",
      "metadata": {
        "colab": {
          "base_uri": "https://localhost:8080/"
        },
        "id": "9O226okW-nFu",
        "outputId": "e0865859-1d4d-4061-eee7-2b6d96a7c2a4"
      },
      "source": [
        "#Checking attributes\r\n",
        "data.keys()"
      ],
      "execution_count": 74,
      "outputs": [
        {
          "output_type": "execute_result",
          "data": {
            "text/plain": [
              "dict_keys(['data', 'target', 'target_names', 'DESCR', 'feature_names', 'filename'])"
            ]
          },
          "metadata": {
            "tags": []
          },
          "execution_count": 74
        }
      ]
    },
    {
      "cell_type": "code",
      "metadata": {
        "colab": {
          "base_uri": "https://localhost:8080/"
        },
        "id": "BmDus3GU-nIb",
        "outputId": "1284915d-f15d-4213-f26c-0fab828c9dfa"
      },
      "source": [
        "#Splitting data into X & y\r\n",
        "X = pd.DataFrame(data.data, columns = data.feature_names)\r\n",
        "y = data.target\r\n",
        "\r\n",
        "#Checking the shape of the data\r\n",
        "X.shape, y.shape"
      ],
      "execution_count": 75,
      "outputs": [
        {
          "output_type": "execute_result",
          "data": {
            "text/plain": [
              "((569, 30), (569,))"
            ]
          },
          "metadata": {
            "tags": []
          },
          "execution_count": 75
        }
      ]
    },
    {
      "cell_type": "code",
      "metadata": {
        "colab": {
          "base_uri": "https://localhost:8080/"
        },
        "id": "xX2DBvBJ_0Gr",
        "outputId": "68fb6bb0-fef3-4611-a6c7-7d935a27ab4d"
      },
      "source": [
        "#Splitting data into train and test split\r\n",
        "X_train, X_test, y_train, y_test = train_test_split(X, y, test_size = 0.2, random_state = 42, stratify = y)\r\n",
        "\r\n",
        "#Checking shape of the data\r\n",
        "X_train.shape, X_test.shape, y_train.shape, y_test.shape"
      ],
      "execution_count": 76,
      "outputs": [
        {
          "output_type": "execute_result",
          "data": {
            "text/plain": [
              "((455, 30), (114, 30), (455,), (114,))"
            ]
          },
          "metadata": {
            "tags": []
          },
          "execution_count": 76
        }
      ]
    },
    {
      "cell_type": "markdown",
      "metadata": {
        "id": "yp2zyuIh_qPZ"
      },
      "source": [
        "# Mutual information"
      ]
    },
    {
      "cell_type": "code",
      "metadata": {
        "colab": {
          "base_uri": "https://localhost:8080/"
        },
        "id": "OeEA5mDG-nSh",
        "outputId": "226da40e-e41d-4127-859e-c0980bd234f3"
      },
      "source": [
        "#Selecting features according to a percentile of the highest scores\r\n",
        "sel_cls = SelectPercentile(mutual_info_classif, percentile=10)\r\n",
        "sel_cls.fit(X_train, y_train)"
      ],
      "execution_count": 78,
      "outputs": [
        {
          "output_type": "execute_result",
          "data": {
            "text/plain": [
              "SelectPercentile(percentile=10,\n",
              "                 score_func=<function mutual_info_classif at 0x7f999db154d0>)"
            ]
          },
          "metadata": {
            "tags": []
          },
          "execution_count": 78
        }
      ]
    },
    {
      "cell_type": "code",
      "metadata": {
        "colab": {
          "base_uri": "https://localhost:8080/"
        },
        "id": "hHuKkB7dHx67",
        "outputId": "ce9ef103-d3f6-4d79-fb1c-5bb5fa88ef68"
      },
      "source": [
        "#Checking result \r\n",
        "sel_cls.get_support()"
      ],
      "execution_count": 79,
      "outputs": [
        {
          "output_type": "execute_result",
          "data": {
            "text/plain": [
              "array([False, False, False, False, False, False, False, False, False,\n",
              "       False, False, False, False, False, False, False, False, False,\n",
              "       False, False,  True, False,  True,  True, False, False, False,\n",
              "       False, False, False])"
            ]
          },
          "metadata": {
            "tags": []
          },
          "execution_count": 79
        }
      ]
    },
    {
      "cell_type": "code",
      "metadata": {
        "colab": {
          "base_uri": "https://localhost:8080/"
        },
        "id": "vzDYnRjAHzfF",
        "outputId": "949e48b4-7bd3-4541-ffc0-8280592c6a51"
      },
      "source": [
        "#Extracting feature according to a percentile of the highest scores\r\n",
        "X_train.columns[sel_cls.get_support()]"
      ],
      "execution_count": 80,
      "outputs": [
        {
          "output_type": "execute_result",
          "data": {
            "text/plain": [
              "Index(['worst radius', 'worst perimeter', 'worst area'], dtype='object')"
            ]
          },
          "metadata": {
            "tags": []
          },
          "execution_count": 80
        }
      ]
    },
    {
      "cell_type": "code",
      "metadata": {
        "colab": {
          "base_uri": "https://localhost:8080/"
        },
        "id": "2l-CQ5r8ILwz",
        "outputId": "d83db743-d132-416b-f60b-51c0467989e1"
      },
      "source": [
        "#Transforming the data\r\n",
        "X_train_mi = sel_cls.transform(X_train)\r\n",
        "X_test_mi = sel_cls.transform(X_test)\r\n",
        "\r\n",
        "#Checking the shape of the data\r\n",
        "X_train_mi.shape, X_test_mi.shape"
      ],
      "execution_count": 81,
      "outputs": [
        {
          "output_type": "execute_result",
          "data": {
            "text/plain": [
              "((455, 3), (114, 3))"
            ]
          },
          "metadata": {
            "tags": []
          },
          "execution_count": 81
        }
      ]
    },
    {
      "cell_type": "code",
      "metadata": {
        "id": "SExbGb_CJtp2"
      },
      "source": [
        "#Creating function who train a model and extract accuracy\r\n",
        "def classifier(X_train, X_test, y_train, y_test):\r\n",
        "  rf = RandomForestClassifier(n_estimators=100, random_state=42, n_jobs=-1)\r\n",
        "  rf.fit(X_train, y_train)\r\n",
        "  y_pred = rf.predict(X_test)\r\n",
        "  accuracy = accuracy_score(y_test, y_pred)\r\n",
        "  return {'Accuracy':accuracy}"
      ],
      "execution_count": 84,
      "outputs": []
    },
    {
      "cell_type": "code",
      "metadata": {
        "colab": {
          "base_uri": "https://localhost:8080/"
        },
        "id": "0wluGeIoLNp2",
        "outputId": "5c08c897-2bc6-42d1-8500-9088c2530dad"
      },
      "source": [
        "%%time\r\n",
        "#Extracting accuracy\r\n",
        "classifier(X_train_mi, X_test_mi, y_train, y_test)"
      ],
      "execution_count": 85,
      "outputs": [
        {
          "output_type": "stream",
          "text": [
            "CPU times: user 195 ms, sys: 40.9 ms, total: 235 ms\n",
            "Wall time: 342 ms\n"
          ],
          "name": "stdout"
        },
        {
          "output_type": "execute_result",
          "data": {
            "text/plain": [
              "{'Accuracy': 0.9122807017543859}"
            ]
          },
          "metadata": {
            "tags": []
          },
          "execution_count": 85
        }
      ]
    },
    {
      "cell_type": "code",
      "metadata": {
        "colab": {
          "base_uri": "https://localhost:8080/"
        },
        "id": "uAhD4Fq1Jtyx",
        "outputId": "6e6a0560-3df1-4aab-ef84-baaa6f420b01"
      },
      "source": [
        "%%time\r\n",
        "#Extracting accuracy\r\n",
        "classifier(X_train, X_test, y_train, y_test)"
      ],
      "execution_count": 86,
      "outputs": [
        {
          "output_type": "stream",
          "text": [
            "CPU times: user 280 ms, sys: 29.4 ms, total: 309 ms\n",
            "Wall time: 346 ms\n"
          ],
          "name": "stdout"
        },
        {
          "output_type": "execute_result",
          "data": {
            "text/plain": [
              "{'Accuracy': 0.956140350877193}"
            ]
          },
          "metadata": {
            "tags": []
          },
          "execution_count": 86
        }
      ]
    },
    {
      "cell_type": "markdown",
      "metadata": {
        "id": "8o3oVNgUYmwc"
      },
      "source": [
        "#Feature selection by mutual information gain on regression"
      ]
    },
    {
      "cell_type": "code",
      "metadata": {
        "id": "Z5Hj0qYMYzR8"
      },
      "source": [
        "#Importing libraries\r\n",
        "from sklearn.datasets import load_boston\r\n",
        "from sklearn.ensemble import RandomForestRegressor\r\n",
        "from sklearn.metrics import mean_absolute_error, mean_squared_error, r2_score"
      ],
      "execution_count": 61,
      "outputs": []
    },
    {
      "cell_type": "code",
      "metadata": {
        "id": "FcbZ1pL_b8oz"
      },
      "source": [
        "#Loading data\r\n",
        "data = load_boston()"
      ],
      "execution_count": 45,
      "outputs": []
    },
    {
      "cell_type": "code",
      "metadata": {
        "colab": {
          "base_uri": "https://localhost:8080/"
        },
        "id": "8S1vmiw8cDNt",
        "outputId": "229fa1e5-ae9b-4e8d-fbdb-9ba10c71f2ae"
      },
      "source": [
        "#Checking attribtes of the data\r\n",
        "data.keys()"
      ],
      "execution_count": 46,
      "outputs": [
        {
          "output_type": "execute_result",
          "data": {
            "text/plain": [
              "dict_keys(['data', 'target', 'feature_names', 'DESCR', 'filename'])"
            ]
          },
          "metadata": {
            "tags": []
          },
          "execution_count": 46
        }
      ]
    },
    {
      "cell_type": "code",
      "metadata": {
        "colab": {
          "base_uri": "https://localhost:8080/"
        },
        "id": "l49efmR3dbLE",
        "outputId": "5e94729d-c49f-431a-a316-2499e915f32f"
      },
      "source": [
        "#Splitting data into X & y\r\n",
        "X = pd.DataFrame(data.data, columns = data.feature_names)\r\n",
        "y = data.target\r\n",
        "\r\n",
        "#Checking the shape of the data\r\n",
        "X.shape, y.shape"
      ],
      "execution_count": 47,
      "outputs": [
        {
          "output_type": "execute_result",
          "data": {
            "text/plain": [
              "((506, 13), (506,))"
            ]
          },
          "metadata": {
            "tags": []
          },
          "execution_count": 47
        }
      ]
    },
    {
      "cell_type": "code",
      "metadata": {
        "colab": {
          "base_uri": "https://localhost:8080/"
        },
        "id": "35E-KGP3euXn",
        "outputId": "250b3a00-598d-403a-c8bb-57db2f969fbd"
      },
      "source": [
        "#Splitting data into train and test\r\n",
        "X_train, X_test, y_train, y_test = train_test_split(X, y, test_size = 0.2, random_state = 42)\r\n",
        "\r\n",
        "#Checking the shape of the data\r\n",
        "X_train.shape, X_test.shape, y_train.shape, y_test.shape"
      ],
      "execution_count": 48,
      "outputs": [
        {
          "output_type": "execute_result",
          "data": {
            "text/plain": [
              "((404, 13), (102, 13), (404,), (102,))"
            ]
          },
          "metadata": {
            "tags": []
          },
          "execution_count": 48
        }
      ]
    },
    {
      "cell_type": "code",
      "metadata": {
        "colab": {
          "base_uri": "https://localhost:8080/"
        },
        "id": "nd-sm-dFExi_",
        "outputId": "6450cb65-3dcf-4253-e8d7-580c9f20a3e5"
      },
      "source": [
        "#Select features according to the k highest scores\r\n",
        "sel_reg = SelectKBest(mutual_info_regression, k=9)\r\n",
        "sel_reg.fit(X_train, y_train)"
      ],
      "execution_count": 53,
      "outputs": [
        {
          "output_type": "execute_result",
          "data": {
            "text/plain": [
              "SelectKBest(k=9, score_func=<function mutual_info_regression at 0x7f999db15440>)"
            ]
          },
          "metadata": {
            "tags": []
          },
          "execution_count": 53
        }
      ]
    },
    {
      "cell_type": "code",
      "metadata": {
        "colab": {
          "base_uri": "https://localhost:8080/"
        },
        "id": "4OVabVMxFDdQ",
        "outputId": "13cb817a-c97b-44a2-8e83-b6dbeae135de"
      },
      "source": [
        "#Checking the result\r\n",
        "sel_reg.get_support()"
      ],
      "execution_count": 54,
      "outputs": [
        {
          "output_type": "execute_result",
          "data": {
            "text/plain": [
              "array([ True, False,  True, False,  True,  True,  True,  True, False,\n",
              "        True,  True, False,  True])"
            ]
          },
          "metadata": {
            "tags": []
          },
          "execution_count": 54
        }
      ]
    },
    {
      "cell_type": "code",
      "metadata": {
        "colab": {
          "base_uri": "https://localhost:8080/"
        },
        "id": "RyDPCDAuFKTM",
        "outputId": "81dad769-f1f9-4708-8bcd-6126ba670d9f"
      },
      "source": [
        "#Extractin the features are more important\r\n",
        "X_train.columns[sel_reg.get_support()]"
      ],
      "execution_count": 55,
      "outputs": [
        {
          "output_type": "execute_result",
          "data": {
            "text/plain": [
              "Index(['CRIM', 'INDUS', 'NOX', 'RM', 'AGE', 'DIS', 'TAX', 'PTRATIO', 'LSTAT'], dtype='object')"
            ]
          },
          "metadata": {
            "tags": []
          },
          "execution_count": 55
        }
      ]
    },
    {
      "cell_type": "code",
      "metadata": {
        "colab": {
          "base_uri": "https://localhost:8080/"
        },
        "id": "jrPOgaPCGaCY",
        "outputId": "675ce29d-5be0-4d4f-8750-67a6e853956b"
      },
      "source": [
        "#Removing less important features from the data\r\n",
        "X_train_mi1 = sel_reg.transform(X_train)\r\n",
        "X_test_mi1 = sel_reg.transform(X_test)\r\n",
        "\r\n",
        "#Checking the shape of the data\r\n",
        "X_train_mi1.shape, X_test_mi1.shape"
      ],
      "execution_count": 63,
      "outputs": [
        {
          "output_type": "execute_result",
          "data": {
            "text/plain": [
              "((404, 9), (102, 9))"
            ]
          },
          "metadata": {
            "tags": []
          },
          "execution_count": 63
        }
      ]
    },
    {
      "cell_type": "code",
      "metadata": {
        "id": "BZKCK74fFe-G"
      },
      "source": [
        "#Creating function who train a model and extract accuracy\r\n",
        "def regressor(X_train, X_test, y_train, y_test):\r\n",
        "  rf = RandomForestRegressor(n_estimators=100, random_state=42, n_jobs=-1)\r\n",
        "  rf.fit(X_train, y_train)\r\n",
        "  y_pred = rf.predict(X_test)\r\n",
        "  r2 = r2_score(y_test, y_pred)\r\n",
        "  rmse = np.sqrt(mean_squared_error(y_test, y_pred))\r\n",
        "  print('R2',r2, 'RMSE',rmse)"
      ],
      "execution_count": 69,
      "outputs": []
    },
    {
      "cell_type": "code",
      "metadata": {
        "colab": {
          "base_uri": "https://localhost:8080/"
        },
        "id": "1mA0hL6FGUXS",
        "outputId": "9e8d41d0-a3b0-4807-9a9b-3fc7035a2d94"
      },
      "source": [
        "%%time\r\n",
        "#Extracting accuracy on the data have high important features\r\n",
        "regressor(X_train_mi1, X_test_mi1, y_train, y_test)"
      ],
      "execution_count": 70,
      "outputs": [
        {
          "output_type": "stream",
          "text": [
            "R2 0.8873076693301188 RMSE 2.8747443262273733\n",
            "CPU times: user 375 ms, sys: 26 ms, total: 401 ms\n",
            "Wall time: 346 ms\n"
          ],
          "name": "stdout"
        }
      ]
    },
    {
      "cell_type": "code",
      "metadata": {
        "colab": {
          "base_uri": "https://localhost:8080/"
        },
        "id": "kGmURQXEFy1u",
        "outputId": "857eeb25-a39b-483a-9dc0-f40c96040c86"
      },
      "source": [
        "%%time\r\n",
        "#Extracting accuracy on on the original data\r\n",
        "regressor(X_train, X_test, y_train, y_test)"
      ],
      "execution_count": 71,
      "outputs": [
        {
          "output_type": "stream",
          "text": [
            "R2 0.8896648705127477 RMSE 2.844519724098308\n",
            "CPU times: user 429 ms, sys: 24.5 ms, total: 453 ms\n",
            "Wall time: 446 ms\n"
          ],
          "name": "stdout"
        }
      ]
    }
  ]
}