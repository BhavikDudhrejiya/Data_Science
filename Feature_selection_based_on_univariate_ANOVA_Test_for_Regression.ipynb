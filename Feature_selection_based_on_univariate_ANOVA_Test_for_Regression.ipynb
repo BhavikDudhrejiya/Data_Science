{
  "nbformat": 4,
  "nbformat_minor": 0,
  "metadata": {
    "colab": {
      "name": "Feature_selection_based_on_univariate_ANOVA_Test_for_Regression.ipynb",
      "provenance": [],
      "collapsed_sections": []
    },
    "kernelspec": {
      "name": "python3",
      "display_name": "Python 3"
    }
  },
  "cells": [
    {
      "cell_type": "code",
      "metadata": {
        "id": "llvcYJxtKkW4"
      },
      "source": [
        "#Importing libraries for data manipulation\r\n",
        "import pandas as pd\r\n",
        "import numpy as np\r\n",
        "\r\n",
        "#Importing libraries for visualization\r\n",
        "import matplotlib.pyplot as plt\r\n",
        "import seaborn as sns\r\n",
        "\r\n",
        "#Importing library for train and test split\r\n",
        "from sklearn.model_selection import train_test_split\r\n",
        "\r\n",
        "#Importing library for classification\r\n",
        "from sklearn.ensemble import RandomForestRegressor\r\n",
        "\r\n",
        "#Importing library for accuracy\r\n",
        "from sklearn.metrics import mean_absolute_error, mean_squared_error, r2_score\r\n",
        "\r\n",
        "#Importing libraries for feature selection\r\n",
        "from sklearn.feature_selection import f_regression\r\n",
        "\r\n",
        "#Importing library for loading data\r\n",
        "from sklearn.datasets import load_boston"
      ],
      "execution_count": 2,
      "outputs": []
    },
    {
      "cell_type": "code",
      "metadata": {
        "id": "SAKex_J1K9TJ"
      },
      "source": [
        "#Loading data\r\n",
        "data = load_boston()"
      ],
      "execution_count": 3,
      "outputs": []
    },
    {
      "cell_type": "code",
      "metadata": {
        "colab": {
          "base_uri": "https://localhost:8080/"
        },
        "id": "3SpJicZgLPkS",
        "outputId": "93aa9761-a704-4813-f51c-86c66f29c77e"
      },
      "source": [
        "#Checking data attributes\r\n",
        "data.keys()"
      ],
      "execution_count": 5,
      "outputs": [
        {
          "output_type": "execute_result",
          "data": {
            "text/plain": [
              "dict_keys(['data', 'target', 'feature_names', 'DESCR', 'filename'])"
            ]
          },
          "metadata": {
            "tags": []
          },
          "execution_count": 5
        }
      ]
    },
    {
      "cell_type": "code",
      "metadata": {
        "colab": {
          "base_uri": "https://localhost:8080/"
        },
        "id": "5lEnFzueLRvr",
        "outputId": "d775f50b-6306-4f89-94e1-9fb78dac8772"
      },
      "source": [
        "#Splitting data into X & y\r\n",
        "X = pd.DataFrame(data.data, columns=data.feature_names)\r\n",
        "y = data.target\r\n",
        "\r\n",
        "#Checking the shape of the data\r\n",
        "X.shape, y.shape"
      ],
      "execution_count": 6,
      "outputs": [
        {
          "output_type": "execute_result",
          "data": {
            "text/plain": [
              "((506, 13), (506,))"
            ]
          },
          "metadata": {
            "tags": []
          },
          "execution_count": 6
        }
      ]
    },
    {
      "cell_type": "code",
      "metadata": {
        "colab": {
          "base_uri": "https://localhost:8080/"
        },
        "id": "ET3dItV3Lw1e",
        "outputId": "5691562f-cf41-4cc9-e207-79142241bf15"
      },
      "source": [
        "#Splitting data into train test split\r\n",
        "X_train, X_test, y_train, y_test = train_test_split(X, y, test_size = 0.2, random_state = 42)\r\n",
        "\r\n",
        "#Checking shape of the data\r\n",
        "X_train.shape, y_train.shape, X_test.shape, y_test.shape"
      ],
      "execution_count": 7,
      "outputs": [
        {
          "output_type": "execute_result",
          "data": {
            "text/plain": [
              "((404, 13), (404,), (102, 13), (102,))"
            ]
          },
          "metadata": {
            "tags": []
          },
          "execution_count": 7
        }
      ]
    },
    {
      "cell_type": "code",
      "metadata": {
        "colab": {
          "base_uri": "https://localhost:8080/"
        },
        "id": "4OHyUuGeMJ7R",
        "outputId": "5647c55b-34f5-49cf-f514-b48546941ac9"
      },
      "source": [
        "#Implmenting F test\r\n",
        "sel = f_regression(X_train, y_train)\r\n",
        "\r\n",
        "#Checking the result\r\n",
        "sel"
      ],
      "execution_count": 8,
      "outputs": [
        {
          "output_type": "execute_result",
          "data": {
            "text/plain": [
              "(array([ 67.88373341,  42.5882052 , 114.32053565,  15.16146759,\n",
              "         84.01381137, 410.22923907,  52.62108097,  23.52225415,\n",
              "         71.0138496 , 107.77140852, 127.84477945,  52.51669749,\n",
              "        476.33924983]),\n",
              " array([2.47106569e-15, 2.03782449e-10, 1.19094157e-23, 1.15540575e-04,\n",
              "        2.56313418e-18, 2.24321025e-63, 2.09805519e-12, 1.76842089e-06,\n",
              "        6.38597383e-16, 1.58503068e-22, 6.31725885e-26, 2.19901681e-12,\n",
              "        3.19774395e-70]))"
            ]
          },
          "metadata": {
            "tags": []
          },
          "execution_count": 8
        }
      ]
    },
    {
      "cell_type": "code",
      "metadata": {
        "colab": {
          "base_uri": "https://localhost:8080/",
          "height": 452
        },
        "id": "-c7nUVaIMcT1",
        "outputId": "136666b0-0c39-44ea-c922-0be2324e62c3"
      },
      "source": [
        "#Creating dataframe for p value\r\n",
        "p_value = pd.DataFrame()\r\n",
        "p_value['features'] = X_train.columns\r\n",
        "p_value['p_value'] = sel[1]\r\n",
        "p_value.reset_index(drop=True, inplace = True)\r\n",
        "p_value.sort_values(by='p_value', ascending = False, inplace = True)\r\n",
        "p_value"
      ],
      "execution_count": 11,
      "outputs": [
        {
          "output_type": "execute_result",
          "data": {
            "text/html": [
              "<div>\n",
              "<style scoped>\n",
              "    .dataframe tbody tr th:only-of-type {\n",
              "        vertical-align: middle;\n",
              "    }\n",
              "\n",
              "    .dataframe tbody tr th {\n",
              "        vertical-align: top;\n",
              "    }\n",
              "\n",
              "    .dataframe thead th {\n",
              "        text-align: right;\n",
              "    }\n",
              "</style>\n",
              "<table border=\"1\" class=\"dataframe\">\n",
              "  <thead>\n",
              "    <tr style=\"text-align: right;\">\n",
              "      <th></th>\n",
              "      <th>features</th>\n",
              "      <th>p_value</th>\n",
              "    </tr>\n",
              "  </thead>\n",
              "  <tbody>\n",
              "    <tr>\n",
              "      <th>3</th>\n",
              "      <td>CHAS</td>\n",
              "      <td>1.155406e-04</td>\n",
              "    </tr>\n",
              "    <tr>\n",
              "      <th>7</th>\n",
              "      <td>DIS</td>\n",
              "      <td>1.768421e-06</td>\n",
              "    </tr>\n",
              "    <tr>\n",
              "      <th>1</th>\n",
              "      <td>ZN</td>\n",
              "      <td>2.037824e-10</td>\n",
              "    </tr>\n",
              "    <tr>\n",
              "      <th>11</th>\n",
              "      <td>B</td>\n",
              "      <td>2.199017e-12</td>\n",
              "    </tr>\n",
              "    <tr>\n",
              "      <th>6</th>\n",
              "      <td>AGE</td>\n",
              "      <td>2.098055e-12</td>\n",
              "    </tr>\n",
              "    <tr>\n",
              "      <th>0</th>\n",
              "      <td>CRIM</td>\n",
              "      <td>2.471066e-15</td>\n",
              "    </tr>\n",
              "    <tr>\n",
              "      <th>8</th>\n",
              "      <td>RAD</td>\n",
              "      <td>6.385974e-16</td>\n",
              "    </tr>\n",
              "    <tr>\n",
              "      <th>4</th>\n",
              "      <td>NOX</td>\n",
              "      <td>2.563134e-18</td>\n",
              "    </tr>\n",
              "    <tr>\n",
              "      <th>9</th>\n",
              "      <td>TAX</td>\n",
              "      <td>1.585031e-22</td>\n",
              "    </tr>\n",
              "    <tr>\n",
              "      <th>2</th>\n",
              "      <td>INDUS</td>\n",
              "      <td>1.190942e-23</td>\n",
              "    </tr>\n",
              "    <tr>\n",
              "      <th>10</th>\n",
              "      <td>PTRATIO</td>\n",
              "      <td>6.317259e-26</td>\n",
              "    </tr>\n",
              "    <tr>\n",
              "      <th>5</th>\n",
              "      <td>RM</td>\n",
              "      <td>2.243210e-63</td>\n",
              "    </tr>\n",
              "    <tr>\n",
              "      <th>12</th>\n",
              "      <td>LSTAT</td>\n",
              "      <td>3.197744e-70</td>\n",
              "    </tr>\n",
              "  </tbody>\n",
              "</table>\n",
              "</div>"
            ],
            "text/plain": [
              "   features       p_value\n",
              "3      CHAS  1.155406e-04\n",
              "7       DIS  1.768421e-06\n",
              "1        ZN  2.037824e-10\n",
              "11        B  2.199017e-12\n",
              "6       AGE  2.098055e-12\n",
              "0      CRIM  2.471066e-15\n",
              "8       RAD  6.385974e-16\n",
              "4       NOX  2.563134e-18\n",
              "9       TAX  1.585031e-22\n",
              "2     INDUS  1.190942e-23\n",
              "10  PTRATIO  6.317259e-26\n",
              "5        RM  2.243210e-63\n",
              "12    LSTAT  3.197744e-70"
            ]
          },
          "metadata": {
            "tags": []
          },
          "execution_count": 11
        }
      ]
    },
    {
      "cell_type": "code",
      "metadata": {
        "colab": {
          "base_uri": "https://localhost:8080/",
          "height": 389
        },
        "id": "yftV0bObNMj9",
        "outputId": "b5df05a7-859b-4706-f4c9-d026b52ee654"
      },
      "source": [
        "#Visualizsing the p values\r\n",
        "plt.figure(figsize=(10,6))\r\n",
        "sns.barplot(x = p_value['features'], y= p_value['p_value']);"
      ],
      "execution_count": 13,
      "outputs": [
        {
          "output_type": "display_data",
          "data": {
            "image/png": "[encoded data removed]",
            "text/plain": [
              "<Figure size 720x432 with 1 Axes>"
            ]
          },
          "metadata": {
            "tags": [],
            "needs_background": "light"
          }
        }
      ]
    },
    {
      "cell_type": "code",
      "metadata": {
        "colab": {
          "base_uri": "https://localhost:8080/"
        },
        "id": "mLd6HaHXNrVr",
        "outputId": "9a7a36df-a51e-4d25-c97e-c1bf409d4b07"
      },
      "source": [
        "#Extracting the variables greater than 0.000001\r\n",
        "p_value[p_value['p_value']>0.000001]['features'].values"
      ],
      "execution_count": 26,
      "outputs": [
        {
          "output_type": "execute_result",
          "data": {
            "text/plain": [
              "array(['CHAS', 'DIS'], dtype=object)"
            ]
          },
          "metadata": {
            "tags": []
          },
          "execution_count": 26
        }
      ]
    },
    {
      "cell_type": "code",
      "metadata": {
        "colab": {
          "base_uri": "https://localhost:8080/"
        },
        "id": "QudbcDhjPAns",
        "outputId": "50b46476-7cd8-4385-b864-ee81d3b6360d"
      },
      "source": [
        "#Removing variables have p values less than 0.000001\r\n",
        "X_train_p = X_train.drop(columns=['CHAS', 'DIS'], axis = 1)\r\n",
        "X_test_p = X_test.drop(columns=['CHAS', 'DIS'], axis = 1)\r\n",
        "\r\n",
        "#Checking shape of the data\r\n",
        "X_train_p.shape, X_test_p.shape"
      ],
      "execution_count": 27,
      "outputs": [
        {
          "output_type": "execute_result",
          "data": {
            "text/plain": [
              "((404, 11), (102, 11))"
            ]
          },
          "metadata": {
            "tags": []
          },
          "execution_count": 27
        }
      ]
    },
    {
      "cell_type": "code",
      "metadata": {
        "id": "QYRPTVhNOBAV"
      },
      "source": [
        "#Creating function who train the model and extract accuracy\r\n",
        "def regressor(X_train, X_test, y_train, y_test):\r\n",
        "  rf = RandomForestRegressor()\r\n",
        "  rf.fit(X_train_p, y_train)\r\n",
        "  y_pred = rf.predict(X_test_p)\r\n",
        "  r2 = r2_score(y_test, y_pred)\r\n",
        "  rmse = np.sqrt(mean_squared_error(y_test, y_pred))\r\n",
        "  print('R2',r2, 'RMSE',rmse)"
      ],
      "execution_count": 30,
      "outputs": []
    },
    {
      "cell_type": "code",
      "metadata": {
        "colab": {
          "base_uri": "https://localhost:8080/"
        },
        "id": "azm9wd0UQMU-",
        "outputId": "3e0defa0-2331-442e-dcb4-d32fd648b735"
      },
      "source": [
        "%%time\r\n",
        "#Extract accuracy after feature selection\r\n",
        "regressor(X_train_p, X_test_p, y_train, y_test)"
      ],
      "execution_count": 31,
      "outputs": [
        {
          "output_type": "stream",
          "text": [
            "R2 0.86959953423532 RMSE 3.0923711744213627\n",
            "CPU times: user 312 ms, sys: 4.78 ms, total: 316 ms\n",
            "Wall time: 322 ms\n"
          ],
          "name": "stdout"
        }
      ]
    },
    {
      "cell_type": "code",
      "metadata": {
        "colab": {
          "base_uri": "https://localhost:8080/"
        },
        "id": "8_364l_vQT4B",
        "outputId": "b74bdfff-86d5-41c1-e8a5-2278a07d8fa9"
      },
      "source": [
        "%%time\r\n",
        "#Extract accuracy on original data\r\n",
        "regressor(X_train, X_test, y_train, y_test)"
      ],
      "execution_count": 32,
      "outputs": [
        {
          "output_type": "stream",
          "text": [
            "R2 0.8700452454050691 RMSE 3.0870817601932163\n",
            "CPU times: user 321 ms, sys: 0 ns, total: 321 ms\n",
            "Wall time: 326 ms\n"
          ],
          "name": "stdout"
        }
      ]
    }
  ]
}