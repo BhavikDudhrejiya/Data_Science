{
  "nbformat": 4,
  "nbformat_minor": 0,
  "metadata": {
    "colab": {
      "name": "Feature Selection Based on Univariate mse on regression problem.ipynb",
      "provenance": [],
      "collapsed_sections": [],
      "authorship_tag": "ABX9TyMxrfiD6mK25poSEEoTY9+y",
      "include_colab_link": true
    },
    "kernelspec": {
      "name": "python3",
      "display_name": "Python 3"
    }
  },
  "cells": [
    {
      "cell_type": "markdown",
      "metadata": {
        "id": "view-in-github",
        "colab_type": "text"
      },
      "source": [
        "<a href=\"https://colab.research.google.com/github/BhavikDudhrejiya/Data_Science/blob/main/Feature_Selection_Based_on_Univariate_mse_on_regression_problem.ipynb\" target=\"_parent\"><img src=\"https://colab.research.google.com/assets/colab-badge.svg\" alt=\"Open In Colab\"/></a>"
      ]
    },
    {
      "cell_type": "code",
      "metadata": {
        "id": "nX8B52I9R9Js"
      },
      "source": [
        "#Importing libraries for data manipulation\r\n",
        "import pandas as pd\r\n",
        "import numpy as np\r\n",
        "\r\n",
        "#Importing libraries for visualization\r\n",
        "import matplotlib.pyplot as plt\r\n",
        "import seaborn as sns\r\n",
        "\r\n",
        "#Importing library for train and test split\r\n",
        "from sklearn.model_selection import train_test_split\r\n",
        "\r\n",
        "#Importing library for classification\r\n",
        "from sklearn.ensemble import RandomForestRegressor\r\n",
        "\r\n",
        "#Importing library for accuracy\r\n",
        "from sklearn.metrics import accuracy_score, roc_auc_score\r\n",
        "\r\n",
        "#Importing library for loading data\r\n",
        "from sklearn.datasets import load_boston\r\n",
        "\r\n",
        "#Importing libraries for model evaluation\r\n",
        "from sklearn.metrics import mean_absolute_error, mean_squared_error, r2_score"
      ],
      "execution_count": 1,
      "outputs": []
    },
    {
      "cell_type": "code",
      "metadata": {
        "colab": {
          "base_uri": "https://localhost:8080/"
        },
        "id": "3CjjFDFbTUUn",
        "outputId": "95911d26-54ea-4ef7-d936-e8017d87b901"
      },
      "source": [
        "#Loading data\r\n",
        "data = load_boston()\r\n",
        "\r\n",
        "#Checking data attributes\r\n",
        "data.keys()"
      ],
      "execution_count": 2,
      "outputs": [
        {
          "output_type": "execute_result",
          "data": {
            "text/plain": [
              "dict_keys(['data', 'target', 'feature_names', 'DESCR', 'filename'])"
            ]
          },
          "metadata": {
            "tags": []
          },
          "execution_count": 2
        }
      ]
    },
    {
      "cell_type": "code",
      "metadata": {
        "colab": {
          "base_uri": "https://localhost:8080/"
        },
        "id": "Y3ai4VpaTcNr",
        "outputId": "d8d2bc58-50ea-4714-a02d-a1cfe6183ad2"
      },
      "source": [
        "#Splitting data into X & y\r\n",
        "X = pd.DataFrame(data.data, columns = data.feature_names)\r\n",
        "y = data.target\r\n",
        "\r\n",
        "#Checking the shape of the data\r\n",
        "X.shape, y.shape"
      ],
      "execution_count": 5,
      "outputs": [
        {
          "output_type": "execute_result",
          "data": {
            "text/plain": [
              "((506, 13), (506,))"
            ]
          },
          "metadata": {
            "tags": []
          },
          "execution_count": 5
        }
      ]
    },
    {
      "cell_type": "code",
      "metadata": {
        "colab": {
          "base_uri": "https://localhost:8080/"
        },
        "id": "4sl9HcA1Tj9J",
        "outputId": "aa2db4fd-dd47-469b-c062-cb7c3e1f08d6"
      },
      "source": [
        "#Splitting data into train test split\r\n",
        "X_train, X_test, y_train, y_test = train_test_split(X, y, test_size = 0.2, random_state = 42)\r\n",
        "\r\n",
        "#Checking shape of the data\r\n",
        "X_train.shape, y_train.shape, X_test.shape, y_test.shape"
      ],
      "execution_count": 8,
      "outputs": [
        {
          "output_type": "execute_result",
          "data": {
            "text/plain": [
              "((404, 13), (404,), (102, 13), (102,))"
            ]
          },
          "metadata": {
            "tags": []
          },
          "execution_count": 8
        }
      ]
    },
    {
      "cell_type": "code",
      "metadata": {
        "id": "io8ahvU1UjKQ"
      },
      "source": [
        "#Extracting mean square error on each features\r\n",
        "mse = []\r\n",
        "for feature in X_train.columns:\r\n",
        "  clf = RandomForestRegressor()\r\n",
        "  clf.fit(X_train[feature].to_frame(), y_train)\r\n",
        "  y_pred = clf.predict(X_test[feature].to_frame())\r\n",
        "  mse.append(mean_squared_error(y_test, y_pred))"
      ],
      "execution_count": 12,
      "outputs": []
    },
    {
      "cell_type": "code",
      "metadata": {
        "colab": {
          "base_uri": "https://localhost:8080/"
        },
        "id": "SQRQ2-oKX3rA",
        "outputId": "6522b3d4-b8bb-4179-8f1b-657aa6fd6744"
      },
      "source": [
        "#Checking result\r\n",
        "mse"
      ],
      "execution_count": 13,
      "outputs": [
        {
          "output_type": "execute_result",
          "data": {
            "text/plain": [
              "[85.61324219117644,\n",
              " 49.32089575416089,\n",
              " 38.053192640601566,\n",
              " 74.68136739207905,\n",
              " 30.015973919326242,\n",
              " 50.676037688376915,\n",
              " 79.26646007249809,\n",
              " 90.0011043598222,\n",
              " 68.37652848086566,\n",
              " 62.27821721560975,\n",
              " 55.455796285846795,\n",
              " 84.5445847349111,\n",
              " 30.05339705264016]"
            ]
          },
          "metadata": {
            "tags": []
          },
          "execution_count": 13
        }
      ]
    },
    {
      "cell_type": "code",
      "metadata": {
        "colab": {
          "base_uri": "https://localhost:8080/",
          "height": 452
        },
        "id": "L3H7I2Q6YTDM",
        "outputId": "73bf7c70-2ca7-4f5a-9c8e-ce6c215d2bba"
      },
      "source": [
        "#Converting result into dataframe\r\n",
        "mse_df = pd.DataFrame()\r\n",
        "mse_df['feature'] = X_train.columns\r\n",
        "mse_df['mse'] = mse\r\n",
        "mse_df.reset_index(drop=True, inplace = True)\r\n",
        "mse_df.sort_values(by='mse', ascending = False, inplace = True)\r\n",
        "mse_df"
      ],
      "execution_count": 15,
      "outputs": [
        {
          "output_type": "execute_result",
          "data": {
            "text/html": [
              "<div>\n",
              "<style scoped>\n",
              "    .dataframe tbody tr th:only-of-type {\n",
              "        vertical-align: middle;\n",
              "    }\n",
              "\n",
              "    .dataframe tbody tr th {\n",
              "        vertical-align: top;\n",
              "    }\n",
              "\n",
              "    .dataframe thead th {\n",
              "        text-align: right;\n",
              "    }\n",
              "</style>\n",
              "<table border=\"1\" class=\"dataframe\">\n",
              "  <thead>\n",
              "    <tr style=\"text-align: right;\">\n",
              "      <th></th>\n",
              "      <th>feature</th>\n",
              "      <th>mse</th>\n",
              "    </tr>\n",
              "  </thead>\n",
              "  <tbody>\n",
              "    <tr>\n",
              "      <th>7</th>\n",
              "      <td>DIS</td>\n",
              "      <td>90.001104</td>\n",
              "    </tr>\n",
              "    <tr>\n",
              "      <th>0</th>\n",
              "      <td>CRIM</td>\n",
              "      <td>85.613242</td>\n",
              "    </tr>\n",
              "    <tr>\n",
              "      <th>11</th>\n",
              "      <td>B</td>\n",
              "      <td>84.544585</td>\n",
              "    </tr>\n",
              "    <tr>\n",
              "      <th>6</th>\n",
              "      <td>AGE</td>\n",
              "      <td>79.266460</td>\n",
              "    </tr>\n",
              "    <tr>\n",
              "      <th>3</th>\n",
              "      <td>CHAS</td>\n",
              "      <td>74.681367</td>\n",
              "    </tr>\n",
              "    <tr>\n",
              "      <th>8</th>\n",
              "      <td>RAD</td>\n",
              "      <td>68.376528</td>\n",
              "    </tr>\n",
              "    <tr>\n",
              "      <th>9</th>\n",
              "      <td>TAX</td>\n",
              "      <td>62.278217</td>\n",
              "    </tr>\n",
              "    <tr>\n",
              "      <th>10</th>\n",
              "      <td>PTRATIO</td>\n",
              "      <td>55.455796</td>\n",
              "    </tr>\n",
              "    <tr>\n",
              "      <th>5</th>\n",
              "      <td>RM</td>\n",
              "      <td>50.676038</td>\n",
              "    </tr>\n",
              "    <tr>\n",
              "      <th>1</th>\n",
              "      <td>ZN</td>\n",
              "      <td>49.320896</td>\n",
              "    </tr>\n",
              "    <tr>\n",
              "      <th>2</th>\n",
              "      <td>INDUS</td>\n",
              "      <td>38.053193</td>\n",
              "    </tr>\n",
              "    <tr>\n",
              "      <th>12</th>\n",
              "      <td>LSTAT</td>\n",
              "      <td>30.053397</td>\n",
              "    </tr>\n",
              "    <tr>\n",
              "      <th>4</th>\n",
              "      <td>NOX</td>\n",
              "      <td>30.015974</td>\n",
              "    </tr>\n",
              "  </tbody>\n",
              "</table>\n",
              "</div>"
            ],
            "text/plain": [
              "    feature        mse\n",
              "7       DIS  90.001104\n",
              "0      CRIM  85.613242\n",
              "11        B  84.544585\n",
              "6       AGE  79.266460\n",
              "3      CHAS  74.681367\n",
              "8       RAD  68.376528\n",
              "9       TAX  62.278217\n",
              "10  PTRATIO  55.455796\n",
              "5        RM  50.676038\n",
              "1        ZN  49.320896\n",
              "2     INDUS  38.053193\n",
              "12    LSTAT  30.053397\n",
              "4       NOX  30.015974"
            ]
          },
          "metadata": {
            "tags": []
          },
          "execution_count": 15
        }
      ]
    },
    {
      "cell_type": "code",
      "metadata": {
        "colab": {
          "base_uri": "https://localhost:8080/",
          "height": 551
        },
        "id": "bw_KoKzSZAsW",
        "outputId": "d64ba025-00bf-4e18-8eb4-6dbd6809016a"
      },
      "source": [
        "#Visualizing the mse\r\n",
        "plt.figure(figsize = (16,9))\r\n",
        "sns.barplot(x = mse_df['feature'], y = mse_df['mse']);"
      ],
      "execution_count": 16,
      "outputs": [
        {
          "output_type": "display_data",
          "data": {
            "image/png": "[encoded data removed]",
            "text/plain": [
              "<Figure size 1152x648 with 1 Axes>"
            ]
          },
          "metadata": {
            "tags": [],
            "needs_background": "light"
          }
        }
      ]
    },
    {
      "cell_type": "code",
      "metadata": {
        "id": "F_TKENEEZvuz"
      },
      "source": [
        "#Creating data have lower mse\r\n",
        "X_train_mse = X_train[['LSTAT', 'NOX']]\r\n",
        "X_test_mse = X_test[['LSTAT', 'NOX']]"
      ],
      "execution_count": 17,
      "outputs": []
    },
    {
      "cell_type": "code",
      "metadata": {
        "id": "AHREeWeNaPMY"
      },
      "source": [
        "#Creating function who train a model and extract accuracy\r\n",
        "def regressor(X_train, X_test, y_train, y_test):\r\n",
        "  rf = RandomForestRegressor()\r\n",
        "  rf.fit(X_train, y_train)\r\n",
        "  y_pred = rf.predict(X_test)\r\n",
        "  r2 = r2_score(y_test, y_pred)\r\n",
        "  rmse = np.sqrt(mean_squared_error(y_test, y_pred))\r\n",
        "  print('R2',r2, 'RMSE',rmse)"
      ],
      "execution_count": 19,
      "outputs": []
    },
    {
      "cell_type": "code",
      "metadata": {
        "colab": {
          "base_uri": "https://localhost:8080/"
        },
        "id": "HQHoFHm1atxm",
        "outputId": "aa6aeb72-4114-4a56-ee72-39efc6bdf657"
      },
      "source": [
        "%%time\r\n",
        "#Train a model and extract accuracy on data have minimum mse \r\n",
        "regressor(X_train_mse, X_test_mse, y_train, y_test)"
      ],
      "execution_count": 22,
      "outputs": [
        {
          "output_type": "stream",
          "text": [
            "R2 0.7088407500095554 RMSE 4.620801803142127\n",
            "CPU times: user 209 ms, sys: 2.63 ms, total: 212 ms\n",
            "Wall time: 213 ms\n"
          ],
          "name": "stdout"
        }
      ]
    },
    {
      "cell_type": "code",
      "metadata": {
        "colab": {
          "base_uri": "https://localhost:8080/"
        },
        "id": "aNy1eijkbRYJ",
        "outputId": "f9f59aec-37de-4913-b690-9bbba4aaad05"
      },
      "source": [
        "%%time\r\n",
        "#Train a model and extract accuracy on original data\r\n",
        "regressor(X_train, X_test, y_train, y_test)"
      ],
      "execution_count": 21,
      "outputs": [
        {
          "output_type": "stream",
          "text": [
            "R2 0.8778661898110409 RMSE 2.9927469577198087\n",
            "CPU times: user 393 ms, sys: 666 µs, total: 394 ms\n",
            "Wall time: 398 ms\n"
          ],
          "name": "stdout"
        }
      ]
    }
  ]
}