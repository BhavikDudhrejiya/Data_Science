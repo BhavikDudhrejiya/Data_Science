{
  "nbformat": 4,
  "nbformat_minor": 0,
  "metadata": {
    "colab": {
      "name": "Recursive Feature Selection by using Tree Based and Gradient Based Estimator.ipynb",
      "provenance": [],
      "collapsed_sections": [],
      "authorship_tag": "ABX9TyPRstD8pq3J9kFyCjusx5NN",
      "include_colab_link": true
    },
    "kernelspec": {
      "name": "python3",
      "display_name": "Python 3"
    }
  },
  "cells": [
    {
      "cell_type": "markdown",
      "metadata": {
        "id": "view-in-github",
        "colab_type": "text"
      },
      "source": [
        "<a href=\"https://colab.research.google.com/github/BhavikDudhrejiya/Data_Science/blob/main/Recursive_Feature_Selection_by_using_Tree_Based_and_Gradient_Based_Estimator.ipynb\" target=\"_parent\"><img src=\"https://colab.research.google.com/assets/colab-badge.svg\" alt=\"Open In Colab\"/></a>"
      ]
    },
    {
      "cell_type": "code",
      "metadata": {
        "id": "au_a3_pO9y-h"
      },
      "source": [
        "#Importing libraries\n",
        "import numpy as np\n",
        "import pandas as pd\n",
        "import seaborn as sns\n",
        "import matplotlib.pyplot as plt\n",
        "%matplotlib inline\n",
        "\n",
        "from sklearn.model_selection import train_test_split\n",
        "from sklearn.ensemble import RandomForestClassifier\n",
        "from sklearn.feature_selection import SelectFromModel\n",
        "from sklearn.feature_selection import RFE\n",
        "from sklearn.metrics import accuracy_score\n",
        "from sklearn.ensemble import GradientBoostingClassifier\n",
        "from sklearn.datasets import load_breast_cancer"
      ],
      "execution_count": null,
      "outputs": []
    },
    {
      "cell_type": "code",
      "metadata": {
        "id": "kA2s61LB_jlm"
      },
      "source": [
        "#Loading the data\n",
        "data = load_breast_cancer()"
      ],
      "execution_count": null,
      "outputs": []
    },
    {
      "cell_type": "code",
      "metadata": {
        "colab": {
          "base_uri": "https://localhost:8080/"
        },
        "id": "3UBE5MM0AX80",
        "outputId": "936fb9ec-bf6d-4f7d-e150-12337ba16418"
      },
      "source": [
        "#Checking data attributes\n",
        "data.keys()"
      ],
      "execution_count": null,
      "outputs": [
        {
          "output_type": "execute_result",
          "data": {
            "text/plain": [
              "dict_keys(['data', 'target', 'target_names', 'DESCR', 'feature_names', 'filename'])"
            ]
          },
          "metadata": {
            "tags": []
          },
          "execution_count": 4
        }
      ]
    },
    {
      "cell_type": "code",
      "metadata": {
        "colab": {
          "base_uri": "https://localhost:8080/"
        },
        "id": "PzZHg8X4AcoB",
        "outputId": "d72580b7-1810-475d-f027-2b378fc016bf"
      },
      "source": [
        "#Splitting data into X & y\n",
        "X = pd.DataFrame(data.data, columns=data.feature_names)\n",
        "y = data.target\n",
        "\n",
        "#Checking the shape of the data\n",
        "X.shape, y.shape"
      ],
      "execution_count": null,
      "outputs": [
        {
          "output_type": "execute_result",
          "data": {
            "text/plain": [
              "((569, 30), (569,))"
            ]
          },
          "metadata": {
            "tags": []
          },
          "execution_count": 5
        }
      ]
    },
    {
      "cell_type": "code",
      "metadata": {
        "colab": {
          "base_uri": "https://localhost:8080/"
        },
        "id": "F6WPnTbxAsFe",
        "outputId": "72ca60ff-ff28-47eb-e3d3-0663944a104d"
      },
      "source": [
        "#Splitting data into train and test split\n",
        "X_train, X_test, y_train, y_test = train_test_split(X, y, test_size = 0.2, random_state = 0)\n",
        "\n",
        "#Checking the shape of the data\n",
        "X_train.shape, y_train.shape, X_test.shape, y_test.shape"
      ],
      "execution_count": null,
      "outputs": [
        {
          "output_type": "execute_result",
          "data": {
            "text/plain": [
              "((455, 30), (455,), (114, 30), (114,))"
            ]
          },
          "metadata": {
            "tags": []
          },
          "execution_count": 6
        }
      ]
    },
    {
      "cell_type": "markdown",
      "metadata": {
        "id": "gspf3E6OBN2L"
      },
      "source": [
        "# Feature selection by feature importance of random forest classifier"
      ]
    },
    {
      "cell_type": "code",
      "metadata": {
        "colab": {
          "base_uri": "https://localhost:8080/"
        },
        "id": "GwRJDeiyBJFi",
        "outputId": "37cc739a-0779-4efd-d651-e9b48346bdb6"
      },
      "source": [
        "#Feature selection by feature importance of random forest classifier\n",
        "sel = SelectFromModel(RandomForestClassifier(n_estimators=100, random_state = 0, n_jobs=-1))\n",
        "\n",
        "#Fitting a model on train data\n",
        "sel.fit(X_train, y_train)"
      ],
      "execution_count": null,
      "outputs": [
        {
          "output_type": "execute_result",
          "data": {
            "text/plain": [
              "SelectFromModel(estimator=RandomForestClassifier(bootstrap=True, ccp_alpha=0.0,\n",
              "                                                 class_weight=None,\n",
              "                                                 criterion='gini',\n",
              "                                                 max_depth=None,\n",
              "                                                 max_features='auto',\n",
              "                                                 max_leaf_nodes=None,\n",
              "                                                 max_samples=None,\n",
              "                                                 min_impurity_decrease=0.0,\n",
              "                                                 min_impurity_split=None,\n",
              "                                                 min_samples_leaf=1,\n",
              "                                                 min_samples_split=2,\n",
              "                                                 min_weight_fraction_leaf=0.0,\n",
              "                                                 n_estimators=100, n_jobs=-1,\n",
              "                                                 oob_score=False,\n",
              "                                                 random_state=0, verbose=0,\n",
              "                                                 warm_start=False),\n",
              "                max_features=None, norm_order=1, prefit=False, threshold=None)"
            ]
          },
          "metadata": {
            "tags": []
          },
          "execution_count": 7
        }
      ]
    },
    {
      "cell_type": "code",
      "metadata": {
        "colab": {
          "base_uri": "https://localhost:8080/"
        },
        "id": "WNnLG4zJBxmA",
        "outputId": "34afc443-7890-417d-8d03-7c4013a75475"
      },
      "source": [
        "#Checking the result\n",
        "sel.get_support()"
      ],
      "execution_count": null,
      "outputs": [
        {
          "output_type": "execute_result",
          "data": {
            "text/plain": [
              "array([ True, False,  True,  True, False, False,  True,  True, False,\n",
              "       False, False, False, False,  True, False, False, False, False,\n",
              "       False, False,  True, False,  True,  True, False, False, False,\n",
              "        True, False, False])"
            ]
          },
          "metadata": {
            "tags": []
          },
          "execution_count": 8
        }
      ]
    },
    {
      "cell_type": "code",
      "metadata": {
        "colab": {
          "base_uri": "https://localhost:8080/"
        },
        "id": "6zJxMJMGB256",
        "outputId": "89ba31d1-7dee-4b01-919f-f3187e2b9230"
      },
      "source": [
        "#Checking count of important features\n",
        "sel.get_support().sum()"
      ],
      "execution_count": null,
      "outputs": [
        {
          "output_type": "execute_result",
          "data": {
            "text/plain": [
              "10"
            ]
          },
          "metadata": {
            "tags": []
          },
          "execution_count": 9
        }
      ]
    },
    {
      "cell_type": "code",
      "metadata": {
        "colab": {
          "base_uri": "https://localhost:8080/"
        },
        "id": "KqEp3wKhB8AZ",
        "outputId": "305c2a10-e4b1-423b-fcb7-349ebf85f8c4"
      },
      "source": [
        "#Extracting the important features names\n",
        "important_features = X_train.columns[sel.get_support()]\n",
        "important_features"
      ],
      "execution_count": null,
      "outputs": [
        {
          "output_type": "execute_result",
          "data": {
            "text/plain": [
              "Index(['mean radius', 'mean perimeter', 'mean area', 'mean concavity',\n",
              "       'mean concave points', 'area error', 'worst radius', 'worst perimeter',\n",
              "       'worst area', 'worst concave points'],\n",
              "      dtype='object')"
            ]
          },
          "metadata": {
            "tags": []
          },
          "execution_count": 17
        }
      ]
    },
    {
      "cell_type": "code",
      "metadata": {
        "colab": {
          "base_uri": "https://localhost:8080/"
        },
        "id": "Mtmvm_nJCb5g",
        "outputId": "cda94b0b-bdd7-4e84-af8d-f52e2b0ef810"
      },
      "source": [
        "#Extracting the not important features names\n",
        "non_important_features = X_train.columns[~sel.get_support()]\n",
        "non_important_features"
      ],
      "execution_count": null,
      "outputs": [
        {
          "output_type": "execute_result",
          "data": {
            "text/plain": [
              "Index(['mean texture', 'mean smoothness', 'mean compactness', 'mean symmetry',\n",
              "       'mean fractal dimension', 'radius error', 'texture error',\n",
              "       'perimeter error', 'smoothness error', 'compactness error',\n",
              "       'concavity error', 'concave points error', 'symmetry error',\n",
              "       'fractal dimension error', 'worst texture', 'worst smoothness',\n",
              "       'worst compactness', 'worst concavity', 'worst symmetry',\n",
              "       'worst fractal dimension'],\n",
              "      dtype='object')"
            ]
          },
          "metadata": {
            "tags": []
          },
          "execution_count": 18
        }
      ]
    },
    {
      "cell_type": "code",
      "metadata": {
        "colab": {
          "base_uri": "https://localhost:8080/",
          "height": 990
        },
        "id": "ZlgwnQWuCy4b",
        "outputId": "bcd05462-b16a-488d-8b60-9815a598a27d"
      },
      "source": [
        "#Checking the feature importance of all the features\n",
        "feature_importance = pd.DataFrame()\n",
        "feature_importance['features'] = X_train.columns\n",
        "feature_importance['feature_imp'] = sel.estimator_.feature_importances_\n",
        "feature_importance.sort_values(by = 'feature_imp', ascending = False, inplace = True)\n",
        "feature_importance.reset_index(drop=True, inplace=True)\n",
        "feature_importance"
      ],
      "execution_count": null,
      "outputs": [
        {
          "output_type": "execute_result",
          "data": {
            "text/html": [
              "<div>\n",
              "<style scoped>\n",
              "    .dataframe tbody tr th:only-of-type {\n",
              "        vertical-align: middle;\n",
              "    }\n",
              "\n",
              "    .dataframe tbody tr th {\n",
              "        vertical-align: top;\n",
              "    }\n",
              "\n",
              "    .dataframe thead th {\n",
              "        text-align: right;\n",
              "    }\n",
              "</style>\n",
              "<table border=\"1\" class=\"dataframe\">\n",
              "  <thead>\n",
              "    <tr style=\"text-align: right;\">\n",
              "      <th></th>\n",
              "      <th>features</th>\n",
              "      <th>feature_imp</th>\n",
              "    </tr>\n",
              "  </thead>\n",
              "  <tbody>\n",
              "    <tr>\n",
              "      <th>0</th>\n",
              "      <td>worst perimeter</td>\n",
              "      <td>0.172054</td>\n",
              "    </tr>\n",
              "    <tr>\n",
              "      <th>1</th>\n",
              "      <td>worst concave points</td>\n",
              "      <td>0.142027</td>\n",
              "    </tr>\n",
              "    <tr>\n",
              "      <th>2</th>\n",
              "      <td>worst radius</td>\n",
              "      <td>0.095563</td>\n",
              "    </tr>\n",
              "    <tr>\n",
              "      <th>3</th>\n",
              "      <td>mean concave points</td>\n",
              "      <td>0.086691</td>\n",
              "    </tr>\n",
              "    <tr>\n",
              "      <th>4</th>\n",
              "      <td>mean concavity</td>\n",
              "      <td>0.079866</td>\n",
              "    </tr>\n",
              "    <tr>\n",
              "      <th>5</th>\n",
              "      <td>mean perimeter</td>\n",
              "      <td>0.060164</td>\n",
              "    </tr>\n",
              "    <tr>\n",
              "      <th>6</th>\n",
              "      <td>worst area</td>\n",
              "      <td>0.050653</td>\n",
              "    </tr>\n",
              "    <tr>\n",
              "      <th>7</th>\n",
              "      <td>area error</td>\n",
              "      <td>0.038800</td>\n",
              "    </tr>\n",
              "    <tr>\n",
              "      <th>8</th>\n",
              "      <td>mean area</td>\n",
              "      <td>0.037145</td>\n",
              "    </tr>\n",
              "    <tr>\n",
              "      <th>9</th>\n",
              "      <td>mean radius</td>\n",
              "      <td>0.036996</td>\n",
              "    </tr>\n",
              "    <tr>\n",
              "      <th>10</th>\n",
              "      <td>worst concavity</td>\n",
              "      <td>0.024432</td>\n",
              "    </tr>\n",
              "    <tr>\n",
              "      <th>11</th>\n",
              "      <td>radius error</td>\n",
              "      <td>0.024074</td>\n",
              "    </tr>\n",
              "    <tr>\n",
              "      <th>12</th>\n",
              "      <td>worst texture</td>\n",
              "      <td>0.018593</td>\n",
              "    </tr>\n",
              "    <tr>\n",
              "      <th>13</th>\n",
              "      <td>worst compactness</td>\n",
              "      <td>0.015655</td>\n",
              "    </tr>\n",
              "    <tr>\n",
              "      <th>14</th>\n",
              "      <td>mean texture</td>\n",
              "      <td>0.015613</td>\n",
              "    </tr>\n",
              "    <tr>\n",
              "      <th>15</th>\n",
              "      <td>perimeter error</td>\n",
              "      <td>0.012544</td>\n",
              "    </tr>\n",
              "    <tr>\n",
              "      <th>16</th>\n",
              "      <td>worst fractal dimension</td>\n",
              "      <td>0.010013</td>\n",
              "    </tr>\n",
              "    <tr>\n",
              "      <th>17</th>\n",
              "      <td>mean compactness</td>\n",
              "      <td>0.009660</td>\n",
              "    </tr>\n",
              "    <tr>\n",
              "      <th>18</th>\n",
              "      <td>worst symmetry</td>\n",
              "      <td>0.009649</td>\n",
              "    </tr>\n",
              "    <tr>\n",
              "      <th>19</th>\n",
              "      <td>worst smoothness</td>\n",
              "      <td>0.009431</td>\n",
              "    </tr>\n",
              "    <tr>\n",
              "      <th>20</th>\n",
              "      <td>mean smoothness</td>\n",
              "      <td>0.006340</td>\n",
              "    </tr>\n",
              "    <tr>\n",
              "      <th>21</th>\n",
              "      <td>symmetry error</td>\n",
              "      <td>0.006106</td>\n",
              "    </tr>\n",
              "    <tr>\n",
              "      <th>22</th>\n",
              "      <td>concave points error</td>\n",
              "      <td>0.005569</td>\n",
              "    </tr>\n",
              "    <tr>\n",
              "      <th>23</th>\n",
              "      <td>texture error</td>\n",
              "      <td>0.005480</td>\n",
              "    </tr>\n",
              "    <tr>\n",
              "      <th>24</th>\n",
              "      <td>fractal dimension error</td>\n",
              "      <td>0.005289</td>\n",
              "    </tr>\n",
              "    <tr>\n",
              "      <th>25</th>\n",
              "      <td>mean symmetry</td>\n",
              "      <td>0.004750</td>\n",
              "    </tr>\n",
              "    <tr>\n",
              "      <th>26</th>\n",
              "      <td>concavity error</td>\n",
              "      <td>0.004525</td>\n",
              "    </tr>\n",
              "    <tr>\n",
              "      <th>27</th>\n",
              "      <td>compactness error</td>\n",
              "      <td>0.004352</td>\n",
              "    </tr>\n",
              "    <tr>\n",
              "      <th>28</th>\n",
              "      <td>mean fractal dimension</td>\n",
              "      <td>0.004171</td>\n",
              "    </tr>\n",
              "    <tr>\n",
              "      <th>29</th>\n",
              "      <td>smoothness error</td>\n",
              "      <td>0.003795</td>\n",
              "    </tr>\n",
              "  </tbody>\n",
              "</table>\n",
              "</div>"
            ],
            "text/plain": [
              "                   features  feature_imp\n",
              "0           worst perimeter     0.172054\n",
              "1      worst concave points     0.142027\n",
              "2              worst radius     0.095563\n",
              "3       mean concave points     0.086691\n",
              "4            mean concavity     0.079866\n",
              "5            mean perimeter     0.060164\n",
              "6                worst area     0.050653\n",
              "7                area error     0.038800\n",
              "8                 mean area     0.037145\n",
              "9               mean radius     0.036996\n",
              "10          worst concavity     0.024432\n",
              "11             radius error     0.024074\n",
              "12            worst texture     0.018593\n",
              "13        worst compactness     0.015655\n",
              "14             mean texture     0.015613\n",
              "15          perimeter error     0.012544\n",
              "16  worst fractal dimension     0.010013\n",
              "17         mean compactness     0.009660\n",
              "18           worst symmetry     0.009649\n",
              "19         worst smoothness     0.009431\n",
              "20          mean smoothness     0.006340\n",
              "21           symmetry error     0.006106\n",
              "22     concave points error     0.005569\n",
              "23            texture error     0.005480\n",
              "24  fractal dimension error     0.005289\n",
              "25            mean symmetry     0.004750\n",
              "26          concavity error     0.004525\n",
              "27        compactness error     0.004352\n",
              "28   mean fractal dimension     0.004171\n",
              "29         smoothness error     0.003795"
            ]
          },
          "metadata": {
            "tags": []
          },
          "execution_count": 27
        }
      ]
    },
    {
      "cell_type": "code",
      "metadata": {
        "colab": {
          "base_uri": "https://localhost:8080/",
          "height": 660
        },
        "id": "FrJCFL_QEHtq",
        "outputId": "0fd5e1c1-0fc6-402c-9e1f-9e8b5605a333"
      },
      "source": [
        "#Visualizing the feature importance\n",
        "plt.figure(figsize=(16,9))\n",
        "sns.barplot(x = feature_importance.features,\n",
        "            y = feature_importance.feature_imp);\n",
        "plt.xticks(rotation = 90);"
      ],
      "execution_count": null,
      "outputs": [
        {
          "output_type": "display_data",
          "data": {
            "image/png": "[encoded data removed]",
            "text/plain": [
              "<Figure size 1152x648 with 1 Axes>"
            ]
          },
          "metadata": {
            "tags": [],
            "needs_background": "light"
          }
        }
      ]
    },
    {
      "cell_type": "markdown",
      "metadata": {
        "id": "kEG0BLytH8we"
      },
      "source": [
        "Important features are selected on the cut off of 0.03 if the feature importance values greater than 0.03"
      ]
    },
    {
      "cell_type": "code",
      "metadata": {
        "colab": {
          "base_uri": "https://localhost:8080/"
        },
        "id": "OEWD5aDNEqDW",
        "outputId": "c7756fe1-e211-4f2f-90a5-daf7b5a89018"
      },
      "source": [
        "#Removing the non importance features as per the tree based feature importance method\n",
        "X_train_rfc = X_train[important_features]\n",
        "X_test_rfc = X_test[important_features]\n",
        "\n",
        "#Checking the shape of the data\n",
        "X_train_rfc.shape, X_test_rfc.shape"
      ],
      "execution_count": null,
      "outputs": [
        {
          "output_type": "execute_result",
          "data": {
            "text/plain": [
              "((455, 10), (114, 10))"
            ]
          },
          "metadata": {
            "tags": []
          },
          "execution_count": 31
        }
      ]
    },
    {
      "cell_type": "code",
      "metadata": {
        "id": "P6_LdGOnJEOT"
      },
      "source": [
        "#Creating function who train a model and extract accuracy\n",
        "def rfc(X_train, X_test, y_train, y_test):\n",
        "  rf = RandomForestClassifier(n_estimators=100, random_state=0, n_jobs=-1)\n",
        "  rf.fit(X_train, y_train)\n",
        "  y_pred = rf.predict(X_test)\n",
        "  accuracy = accuracy_score(y_test, y_pred)\n",
        "  return {'Accuracy':accuracy}"
      ],
      "execution_count": null,
      "outputs": []
    },
    {
      "cell_type": "code",
      "metadata": {
        "colab": {
          "base_uri": "https://localhost:8080/"
        },
        "id": "qEACnBAxJ0eW",
        "outputId": "61c69b6b-e58a-4d7b-9485-f12481e3aee7"
      },
      "source": [
        "%%time\n",
        "#Train a model and extract accuracy on data have importance features based on tree based feature selection\n",
        "rfc(X_train_rfc, X_test_rfc, y_train, y_test)"
      ],
      "execution_count": null,
      "outputs": [
        {
          "output_type": "stream",
          "text": [
            "CPU times: user 291 ms, sys: 34.7 ms, total: 326 ms\n",
            "Wall time: 360 ms\n"
          ],
          "name": "stdout"
        },
        {
          "output_type": "execute_result",
          "data": {
            "text/plain": [
              "{'Accuracy': 0.9473684210526315}"
            ]
          },
          "metadata": {
            "tags": []
          },
          "execution_count": 34
        }
      ]
    },
    {
      "cell_type": "code",
      "metadata": {
        "colab": {
          "base_uri": "https://localhost:8080/"
        },
        "id": "qVK5IJugJ7ku",
        "outputId": "885b182e-051a-4ac0-d8cc-01d01815c464"
      },
      "source": [
        "%%time\n",
        "#Train a model and extract accuracy on original data\n",
        "rfc(X_train, X_test, y_train, y_test)"
      ],
      "execution_count": null,
      "outputs": [
        {
          "output_type": "stream",
          "text": [
            "CPU times: user 329 ms, sys: 27.8 ms, total: 357 ms\n",
            "Wall time: 362 ms\n"
          ],
          "name": "stdout"
        },
        {
          "output_type": "execute_result",
          "data": {
            "text/plain": [
              "{'Accuracy': 0.9649122807017544}"
            ]
          },
          "metadata": {
            "tags": []
          },
          "execution_count": 35
        }
      ]
    },
    {
      "cell_type": "markdown",
      "metadata": {
        "id": "r3C5pCrs1MRX"
      },
      "source": [
        "As We got maximum accuracy of 96% with 10 best features selected through feature importance"
      ]
    },
    {
      "cell_type": "markdown",
      "metadata": {
        "id": "_vpJRPtQKjb3"
      },
      "source": [
        "# Feature selection through Recursive Feature Elimination method"
      ]
    },
    {
      "cell_type": "code",
      "metadata": {
        "colab": {
          "base_uri": "https://localhost:8080/"
        },
        "id": "5aAN1iHvKtYD",
        "outputId": "7043aa0e-09f4-4b99-9735-16840b4fa697"
      },
      "source": [
        "#Creating Recursive Feature Elmination\n",
        "sel_rfe = RFE(RandomForestClassifier(n_estimators=100, random_state=0, n_jobs=-1), n_features_to_select=15)\n",
        "\n",
        "#Implementing on the data\n",
        "sel_rfe.fit(X_train, y_train)"
      ],
      "execution_count": null,
      "outputs": [
        {
          "output_type": "execute_result",
          "data": {
            "text/plain": [
              "RFE(estimator=RandomForestClassifier(bootstrap=True, ccp_alpha=0.0,\n",
              "                                     class_weight=None, criterion='gini',\n",
              "                                     max_depth=None, max_features='auto',\n",
              "                                     max_leaf_nodes=None, max_samples=None,\n",
              "                                     min_impurity_decrease=0.0,\n",
              "                                     min_impurity_split=None,\n",
              "                                     min_samples_leaf=1, min_samples_split=2,\n",
              "                                     min_weight_fraction_leaf=0.0,\n",
              "                                     n_estimators=100, n_jobs=-1,\n",
              "                                     oob_score=False, random_state=0, verbose=0,\n",
              "                                     warm_start=False),\n",
              "    n_features_to_select=15, step=1, verbose=0)"
            ]
          },
          "metadata": {
            "tags": []
          },
          "execution_count": 37
        }
      ]
    },
    {
      "cell_type": "code",
      "metadata": {
        "colab": {
          "base_uri": "https://localhost:8080/"
        },
        "id": "cJOkhA07LXra",
        "outputId": "ecb20d67-e2cf-4c9a-da78-cec42b598c34"
      },
      "source": [
        "#Checking the result of the RFE\n",
        "sel_rfe.get_support()"
      ],
      "execution_count": null,
      "outputs": [
        {
          "output_type": "execute_result",
          "data": {
            "text/plain": [
              "array([ True,  True,  True,  True, False, False,  True,  True, False,\n",
              "       False, False, False, False,  True, False, False, False, False,\n",
              "       False, False,  True,  True,  True,  True,  True, False,  True,\n",
              "        True,  True, False])"
            ]
          },
          "metadata": {
            "tags": []
          },
          "execution_count": 38
        }
      ]
    },
    {
      "cell_type": "code",
      "metadata": {
        "colab": {
          "base_uri": "https://localhost:8080/"
        },
        "id": "Hx1emFKOLj65",
        "outputId": "9d520995-e056-4231-b98e-882fcdefe0cb"
      },
      "source": [
        "#Checking the count of features which are important as per RFE\n",
        "sel_rfe.get_support().sum()"
      ],
      "execution_count": null,
      "outputs": [
        {
          "output_type": "execute_result",
          "data": {
            "text/plain": [
              "15"
            ]
          },
          "metadata": {
            "tags": []
          },
          "execution_count": 39
        }
      ]
    },
    {
      "cell_type": "code",
      "metadata": {
        "colab": {
          "base_uri": "https://localhost:8080/"
        },
        "id": "RF2Ypi-yLp_e",
        "outputId": "846a4208-ca2a-4ffa-881e-002caf1db0fb"
      },
      "source": [
        "#Extracting importance features\n",
        "imp_features = X_train.columns[sel_rfe.get_support()]\n",
        "imp_features"
      ],
      "execution_count": null,
      "outputs": [
        {
          "output_type": "execute_result",
          "data": {
            "text/plain": [
              "Index(['mean radius', 'mean texture', 'mean perimeter', 'mean area',\n",
              "       'mean concavity', 'mean concave points', 'area error', 'worst radius',\n",
              "       'worst texture', 'worst perimeter', 'worst area', 'worst smoothness',\n",
              "       'worst concavity', 'worst concave points', 'worst symmetry'],\n",
              "      dtype='object')"
            ]
          },
          "metadata": {
            "tags": []
          },
          "execution_count": 51
        }
      ]
    },
    {
      "cell_type": "code",
      "metadata": {
        "colab": {
          "base_uri": "https://localhost:8080/"
        },
        "id": "8nrxeQzWMO--",
        "outputId": "14fe435b-0bd0-49a2-f865-4687675d161c"
      },
      "source": [
        "#Extracting not importance features\n",
        "non_imp_features = X_train.columns[~sel_rfe.get_support()]\n",
        "non_imp_features"
      ],
      "execution_count": null,
      "outputs": [
        {
          "output_type": "execute_result",
          "data": {
            "text/plain": [
              "Index(['mean smoothness', 'mean compactness', 'mean symmetry',\n",
              "       'mean fractal dimension', 'radius error', 'texture error',\n",
              "       'perimeter error', 'smoothness error', 'compactness error',\n",
              "       'concavity error', 'concave points error', 'symmetry error',\n",
              "       'fractal dimension error', 'worst compactness',\n",
              "       'worst fractal dimension'],\n",
              "      dtype='object')"
            ]
          },
          "metadata": {
            "tags": []
          },
          "execution_count": 52
        }
      ]
    },
    {
      "cell_type": "code",
      "metadata": {
        "colab": {
          "base_uri": "https://localhost:8080/"
        },
        "id": "-nS6_W0UMafO",
        "outputId": "a7b56b92-ebdf-46bf-d6b5-72d9948919bf"
      },
      "source": [
        "#Removing the not import features from the data\n",
        "X_train_rfe = sel_rfe.transform(X_train)\n",
        "X_test_rfe = sel_rfe.transform(X_test)\n",
        "\n",
        "#Checking the shape of the data\n",
        "X_train_rfc.shape, X_test_rfc.shape"
      ],
      "execution_count": null,
      "outputs": [
        {
          "output_type": "execute_result",
          "data": {
            "text/plain": [
              "((455, 10), (114, 10))"
            ]
          },
          "metadata": {
            "tags": []
          },
          "execution_count": 53
        }
      ]
    },
    {
      "cell_type": "code",
      "metadata": {
        "colab": {
          "base_uri": "https://localhost:8080/"
        },
        "id": "Hz62idOmM-k1",
        "outputId": "4f67318a-f46c-4682-91f1-fda3af67978f"
      },
      "source": [
        "%%time\n",
        "#Train a model and extract accuracy on data have importance features based on tree based feature selection\n",
        "rfc(X_train_rfe, X_test_rfe, y_train, y_test)"
      ],
      "execution_count": null,
      "outputs": [
        {
          "output_type": "stream",
          "text": [
            "CPU times: user 270 ms, sys: 38.6 ms, total: 309 ms\n",
            "Wall time: 353 ms\n"
          ],
          "name": "stdout"
        },
        {
          "output_type": "execute_result",
          "data": {
            "text/plain": [
              "{'Accuracy': 0.9736842105263158}"
            ]
          },
          "metadata": {
            "tags": []
          },
          "execution_count": 44
        }
      ]
    },
    {
      "cell_type": "code",
      "metadata": {
        "colab": {
          "base_uri": "https://localhost:8080/"
        },
        "id": "v97uv0EJND6T",
        "outputId": "85352c7e-e6f3-44b7-e1cb-3779263eb683"
      },
      "source": [
        "%%time\n",
        "#Train a model and extract accuracy on original data\n",
        "rfc(X_train, X_test, y_train, y_test)"
      ],
      "execution_count": null,
      "outputs": [
        {
          "output_type": "stream",
          "text": [
            "CPU times: user 341 ms, sys: 21.7 ms, total: 362 ms\n",
            "Wall time: 355 ms\n"
          ],
          "name": "stdout"
        },
        {
          "output_type": "execute_result",
          "data": {
            "text/plain": [
              "{'Accuracy': 0.9649122807017544}"
            ]
          },
          "metadata": {
            "tags": []
          },
          "execution_count": 45
        }
      ]
    },
    {
      "cell_type": "code",
      "metadata": {
        "colab": {
          "base_uri": "https://localhost:8080/"
        },
        "id": "gkHdtc0TuxtR",
        "outputId": "9e0aa228-8848-4a6a-bb51-8660e9bdc5c0"
      },
      "source": [
        "#Looping the random forest with RFE with adding number of features\n",
        "for index in range(1,31):\n",
        "  sel = RFE(RandomForestClassifier(n_estimators=100, random_state=0, n_jobs=-1), n_features_to_select = index)\n",
        "  sel.fit(X_train, y_train)\n",
        "  X_train_rfe = sel.transform(X_train)\n",
        "  X_test_rfe = sel.transform(X_test)\n",
        "  print(index,'=',rfc(X_train_rfe, X_test_rfe, y_train, y_test))"
      ],
      "execution_count": null,
      "outputs": [
        {
          "output_type": "stream",
          "text": [
            "1 = {'Accuracy': 0.8947368421052632}\n",
            "2 = {'Accuracy': 0.9298245614035088}\n",
            "3 = {'Accuracy': 0.9473684210526315}\n",
            "4 = {'Accuracy': 0.9649122807017544}\n",
            "5 = {'Accuracy': 0.9649122807017544}\n",
            "6 = {'Accuracy': 0.956140350877193}\n",
            "7 = {'Accuracy': 0.956140350877193}\n",
            "8 = {'Accuracy': 0.9649122807017544}\n",
            "9 = {'Accuracy': 0.9736842105263158}\n",
            "10 = {'Accuracy': 0.9736842105263158}\n",
            "11 = {'Accuracy': 0.9649122807017544}\n",
            "12 = {'Accuracy': 0.9736842105263158}\n",
            "13 = {'Accuracy': 0.9649122807017544}\n",
            "14 = {'Accuracy': 0.9736842105263158}\n",
            "15 = {'Accuracy': 0.9736842105263158}\n",
            "16 = {'Accuracy': 0.9736842105263158}\n",
            "17 = {'Accuracy': 0.9824561403508771}\n",
            "18 = {'Accuracy': 0.9649122807017544}\n",
            "19 = {'Accuracy': 0.9649122807017544}\n",
            "20 = {'Accuracy': 0.9736842105263158}\n",
            "21 = {'Accuracy': 0.9736842105263158}\n",
            "22 = {'Accuracy': 0.9736842105263158}\n",
            "23 = {'Accuracy': 0.9649122807017544}\n",
            "24 = {'Accuracy': 0.9824561403508771}\n",
            "25 = {'Accuracy': 0.956140350877193}\n",
            "26 = {'Accuracy': 0.956140350877193}\n",
            "27 = {'Accuracy': 0.9649122807017544}\n",
            "28 = {'Accuracy': 0.9649122807017544}\n",
            "29 = {'Accuracy': 0.9649122807017544}\n",
            "30 = {'Accuracy': 0.9649122807017544}\n"
          ],
          "name": "stdout"
        }
      ]
    },
    {
      "cell_type": "markdown",
      "metadata": {
        "id": "hn2Ec5FpwqXr"
      },
      "source": [
        "As We have got maximum accuracy 98% on 17th & 24th iteration"
      ]
    },
    {
      "cell_type": "code",
      "metadata": {
        "colab": {
          "base_uri": "https://localhost:8080/"
        },
        "id": "XF1l3I2fuxz3",
        "outputId": "6dd9670b-2214-41d8-a930-0ff9780e01e1"
      },
      "source": [
        "#Running gradient boosting in RFE with 17 features to select \n",
        "sel = RFE(RandomForestClassifier(n_estimators=100, random_state=0, n_jobs=-1), n_features_to_select = 17)\n",
        "#Implementing on the data\n",
        "sel.fit(X_train, y_train)\n",
        "#Removing not important features\n",
        "X_train_rfe2 = sel.transform(X_train)\n",
        "X_test_rfe12 = sel.transform(X_test)\n",
        "#Train a model and extract accuracy on original data\n",
        "rfc(X_train_rfe2, X_test_rfe12, y_train, y_test)"
      ],
      "execution_count": null,
      "outputs": [
        {
          "output_type": "execute_result",
          "data": {
            "text/plain": [
              "{'Accuracy': 0.9824561403508771}"
            ]
          },
          "metadata": {
            "tags": []
          },
          "execution_count": 79
        }
      ]
    },
    {
      "cell_type": "markdown",
      "metadata": {
        "id": "LkT9GbX_NSle"
      },
      "source": [
        "# Feature selection by gradient boost tree importance"
      ]
    },
    {
      "cell_type": "code",
      "metadata": {
        "colab": {
          "base_uri": "https://localhost:8080/"
        },
        "id": "7GN9JQ5iNYat",
        "outputId": "622334b4-a704-4bd1-ffae-6ddeb459c582"
      },
      "source": [
        "#Creating Recursive Feature Elmination with gradient boosting classifier\n",
        "sel_gbc = RFE(GradientBoostingClassifier(n_estimators=100, random_state=0), n_features_to_select=12)\n",
        "\n",
        "#Implementing on the data\n",
        "sel_gbc.fit(X_train, y_train)"
      ],
      "execution_count": null,
      "outputs": [
        {
          "output_type": "execute_result",
          "data": {
            "text/plain": [
              "RFE(estimator=GradientBoostingClassifier(ccp_alpha=0.0,\n",
              "                                         criterion='friedman_mse', init=None,\n",
              "                                         learning_rate=0.1, loss='deviance',\n",
              "                                         max_depth=3, max_features=None,\n",
              "                                         max_leaf_nodes=None,\n",
              "                                         min_impurity_decrease=0.0,\n",
              "                                         min_impurity_split=None,\n",
              "                                         min_samples_leaf=1,\n",
              "                                         min_samples_split=2,\n",
              "                                         min_weight_fraction_leaf=0.0,\n",
              "                                         n_estimators=100,\n",
              "                                         n_iter_no_change=None,\n",
              "                                         presort='deprecated', random_state=0,\n",
              "                                         subsample=1.0, tol=0.0001,\n",
              "                                         validation_fraction=0.1, verbose=0,\n",
              "                                         warm_start=False),\n",
              "    n_features_to_select=12, step=1, verbose=0)"
            ]
          },
          "metadata": {
            "tags": []
          },
          "execution_count": 47
        }
      ]
    },
    {
      "cell_type": "code",
      "metadata": {
        "colab": {
          "base_uri": "https://localhost:8080/"
        },
        "id": "glAM_HlQOCDb",
        "outputId": "5d497907-2afa-4ed1-daa5-7771ed1c900b"
      },
      "source": [
        "#Checking the result of the RFE\n",
        "sel_gbc.get_support()"
      ],
      "execution_count": null,
      "outputs": [
        {
          "output_type": "execute_result",
          "data": {
            "text/plain": [
              "array([False,  True, False, False,  True, False, False,  True,  True,\n",
              "       False, False, False, False,  True, False, False,  True, False,\n",
              "       False, False,  True,  True,  True,  True, False, False,  True,\n",
              "        True, False, False])"
            ]
          },
          "metadata": {
            "tags": []
          },
          "execution_count": 48
        }
      ]
    },
    {
      "cell_type": "code",
      "metadata": {
        "colab": {
          "base_uri": "https://localhost:8080/"
        },
        "id": "CX4aL2DkOVKL",
        "outputId": "797628f2-1db8-4819-a626-9c2b49856e5f"
      },
      "source": [
        "#Checking the count of features which are important as per RFE\n",
        "sel_gbc.get_support().sum()"
      ],
      "execution_count": null,
      "outputs": [
        {
          "output_type": "execute_result",
          "data": {
            "text/plain": [
              "12"
            ]
          },
          "metadata": {
            "tags": []
          },
          "execution_count": 49
        }
      ]
    },
    {
      "cell_type": "code",
      "metadata": {
        "colab": {
          "base_uri": "https://localhost:8080/"
        },
        "id": "qbNtyMl8OmeN",
        "outputId": "1eeb2c0b-534c-4ce1-ca87-bb7c746fdc4c"
      },
      "source": [
        "#Extracting importance features\n",
        "imp_features = X_train.columns[sel_gbc.get_support()]\n",
        "imp_features"
      ],
      "execution_count": null,
      "outputs": [
        {
          "output_type": "execute_result",
          "data": {
            "text/plain": [
              "Index(['mean texture', 'mean smoothness', 'mean concave points',\n",
              "       'mean symmetry', 'area error', 'concavity error', 'worst radius',\n",
              "       'worst texture', 'worst perimeter', 'worst area', 'worst concavity',\n",
              "       'worst concave points'],\n",
              "      dtype='object')"
            ]
          },
          "metadata": {
            "tags": []
          },
          "execution_count": 54
        }
      ]
    },
    {
      "cell_type": "code",
      "metadata": {
        "colab": {
          "base_uri": "https://localhost:8080/"
        },
        "id": "pJPjUEbXO8He",
        "outputId": "3183c197-c2f7-420c-9ede-701933fb387e"
      },
      "source": [
        "#Extracting non importance features\n",
        "non_imp_features = X_train.columns[~sel_gbc.get_support()]\n",
        "non_imp_features"
      ],
      "execution_count": null,
      "outputs": [
        {
          "output_type": "execute_result",
          "data": {
            "text/plain": [
              "Index(['mean radius', 'mean perimeter', 'mean area', 'mean compactness',\n",
              "       'mean concavity', 'mean fractal dimension', 'radius error',\n",
              "       'texture error', 'perimeter error', 'smoothness error',\n",
              "       'compactness error', 'concave points error', 'symmetry error',\n",
              "       'fractal dimension error', 'worst smoothness', 'worst compactness',\n",
              "       'worst symmetry', 'worst fractal dimension'],\n",
              "      dtype='object')"
            ]
          },
          "metadata": {
            "tags": []
          },
          "execution_count": 55
        }
      ]
    },
    {
      "cell_type": "code",
      "metadata": {
        "colab": {
          "base_uri": "https://localhost:8080/"
        },
        "id": "4lhomRscPB9M",
        "outputId": "9de7407b-f2c7-43b5-86fa-e67542bed11e"
      },
      "source": [
        "#Removing the not import features from the data\n",
        "X_train_gcb = sel_gbc.transform(X_train)\n",
        "X_test_gcb = sel_gbc.transform(X_test)\n",
        "\n",
        "#Checking the shape of the data\n",
        "X_train_gcb.shape, X_test_gcb.shape"
      ],
      "execution_count": null,
      "outputs": [
        {
          "output_type": "execute_result",
          "data": {
            "text/plain": [
              "((455, 12), (114, 12))"
            ]
          },
          "metadata": {
            "tags": []
          },
          "execution_count": 56
        }
      ]
    },
    {
      "cell_type": "code",
      "metadata": {
        "colab": {
          "base_uri": "https://localhost:8080/"
        },
        "id": "6NIetipxPYmb",
        "outputId": "b76a572f-e90e-4afc-f855-4dea0f7dc960"
      },
      "source": [
        "%%time\n",
        "#Train a model and extract accuracy on data have importance features based on gradient boosting feature selection\n",
        "rfc(X_train_gcb, X_test_gcb, y_train, y_test)"
      ],
      "execution_count": null,
      "outputs": [
        {
          "output_type": "stream",
          "text": [
            "CPU times: user 371 ms, sys: 45.8 ms, total: 416 ms\n",
            "Wall time: 460 ms\n"
          ],
          "name": "stdout"
        },
        {
          "output_type": "execute_result",
          "data": {
            "text/plain": [
              "{'Accuracy': 0.9736842105263158}"
            ]
          },
          "metadata": {
            "tags": []
          },
          "execution_count": 57
        }
      ]
    },
    {
      "cell_type": "code",
      "metadata": {
        "colab": {
          "base_uri": "https://localhost:8080/"
        },
        "id": "UeEBpUtUQc7T",
        "outputId": "fbc422b7-3b2c-4a43-b8cb-140a69bed308"
      },
      "source": [
        "%%time\n",
        "#Train a model and extract accuracy on original data\n",
        "rfc(X_train, X_test, y_train, y_test)"
      ],
      "execution_count": null,
      "outputs": [
        {
          "output_type": "stream",
          "text": [
            "CPU times: user 316 ms, sys: 35.5 ms, total: 351 ms\n",
            "Wall time: 358 ms\n"
          ],
          "name": "stdout"
        },
        {
          "output_type": "execute_result",
          "data": {
            "text/plain": [
              "{'Accuracy': 0.9649122807017544}"
            ]
          },
          "metadata": {
            "tags": []
          },
          "execution_count": 58
        }
      ]
    },
    {
      "cell_type": "code",
      "metadata": {
        "colab": {
          "base_uri": "https://localhost:8080/"
        },
        "id": "CVM0B5VYQrZw",
        "outputId": "719c5f53-e3ae-4794-e23f-1dfc959a075b"
      },
      "source": [
        "for index in range(1,31):\n",
        "  sel = RFE(GradientBoostingClassifier(n_estimators=100, random_state=0), n_features_to_select = index)\n",
        "  sel.fit(X_train, y_train)\n",
        "  X_train_rfe1 = sel.transform(X_train)\n",
        "  X_test_rfe1 = sel.transform(X_test)\n",
        "  print(index,'=',rfc(X_train_rfe1, X_test_rfe1, y_train, y_test))"
      ],
      "execution_count": null,
      "outputs": [
        {
          "output_type": "stream",
          "text": [
            "1 = {'Accuracy': 0.8771929824561403}\n",
            "2 = {'Accuracy': 0.9035087719298246}\n",
            "3 = {'Accuracy': 0.9649122807017544}\n",
            "4 = {'Accuracy': 0.9736842105263158}\n",
            "5 = {'Accuracy': 0.9649122807017544}\n",
            "6 = {'Accuracy': 0.9912280701754386}\n",
            "7 = {'Accuracy': 0.9736842105263158}\n",
            "8 = {'Accuracy': 0.9649122807017544}\n",
            "9 = {'Accuracy': 0.9736842105263158}\n",
            "10 = {'Accuracy': 0.956140350877193}\n",
            "11 = {'Accuracy': 0.956140350877193}\n",
            "12 = {'Accuracy': 0.9736842105263158}\n",
            "13 = {'Accuracy': 0.956140350877193}\n",
            "14 = {'Accuracy': 0.956140350877193}\n",
            "15 = {'Accuracy': 0.9649122807017544}\n",
            "16 = {'Accuracy': 0.956140350877193}\n",
            "17 = {'Accuracy': 0.9649122807017544}\n",
            "18 = {'Accuracy': 0.9473684210526315}\n",
            "19 = {'Accuracy': 0.9649122807017544}\n",
            "20 = {'Accuracy': 0.9473684210526315}\n",
            "21 = {'Accuracy': 0.9649122807017544}\n",
            "22 = {'Accuracy': 0.9649122807017544}\n",
            "23 = {'Accuracy': 0.9649122807017544}\n",
            "24 = {'Accuracy': 0.9649122807017544}\n",
            "25 = {'Accuracy': 0.9736842105263158}\n",
            "26 = {'Accuracy': 0.9736842105263158}\n",
            "27 = {'Accuracy': 0.9649122807017544}\n",
            "28 = {'Accuracy': 0.9649122807017544}\n",
            "29 = {'Accuracy': 0.9649122807017544}\n",
            "30 = {'Accuracy': 0.9649122807017544}\n"
          ],
          "name": "stdout"
        }
      ]
    },
    {
      "cell_type": "markdown",
      "metadata": {
        "id": "otIy-PtHreEz"
      },
      "source": [
        "On sixth iteration We have got 'Accuracy': 0.9912280701754386"
      ]
    },
    {
      "cell_type": "code",
      "metadata": {
        "colab": {
          "base_uri": "https://localhost:8080/"
        },
        "id": "OyzWYzqKR53J",
        "outputId": "1c072acd-f406-4f58-bd26-b0dde2c67910"
      },
      "source": [
        "#Running gradient boosting in RFE with 6 number of features to select \n",
        "sel = RFE(GradientBoostingClassifier(n_estimators=100, random_state=0), n_features_to_select = 6)\n",
        "#Implementing on the data\n",
        "sel.fit(X_train, y_train)\n",
        "#Removing not important features\n",
        "X_train_rfe1 = sel.transform(X_train)\n",
        "X_test_rfe1 = sel.transform(X_test)\n",
        "#Train a model and extract accuracy on original data\n",
        "rfc(X_train_rfe1, X_test_rfe1, y_train, y_test)"
      ],
      "execution_count": null,
      "outputs": [
        {
          "output_type": "execute_result",
          "data": {
            "text/plain": [
              "{'Accuracy': 0.9912280701754386}"
            ]
          },
          "metadata": {
            "tags": []
          },
          "execution_count": 77
        }
      ]
    },
    {
      "cell_type": "markdown",
      "metadata": {
        "id": "CDoIwccHuS2l"
      },
      "source": [
        "As We got better accuracy of 99.12% with best features through gradient boosting estimator"
      ]
    }
  ]
}